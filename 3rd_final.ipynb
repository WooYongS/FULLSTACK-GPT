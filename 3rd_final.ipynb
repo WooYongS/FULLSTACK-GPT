{
 "cells": [
  {
   "cell_type": "code",
   "execution_count": 45,
   "metadata": {},
   "outputs": [
    {
     "name": "stdout",
     "output_type": "stream",
     "text": [
      "🕷️🦸‍♂️🕸️"
     ]
    }
   ],
   "source": [
    "from langchain.chat_models import ChatOpenAI\n",
    "from langchain.prompts.few_shot import FewShotChatMessagePromptTemplate\n",
    "from langchain.memory import ConversationSummaryBufferMemory\n",
    "from langchain.callbacks import StreamingStdOutCallbackHandler\n",
    "from langchain.schema.runnable import RunnablePassthrough\n",
    "from langchain.prompts import ChatPromptTemplate, MessagesPlaceholder\n",
    "\n",
    "llm = ChatOpenAI(\n",
    "    temperature=0.1, streaming=True, callbacks=[StreamingStdOutCallbackHandler()]\n",
    ")\n",
    "\n",
    "memory = ConversationSummaryBufferMemory(\n",
    "    llm=llm, max_token_limit=120, return_messages=True\n",
    ")\n",
    "\n",
    "# Few-shot 예제 데이터 (학습용)\n",
    "examples = [\n",
    "    {\"question\": \"The Godfather?\", \"answer\": \"👨‍👨‍👦🔫🍝\"},\n",
    "    {\"question\": \"TopGun?\", \"answer\": \"🛩️👨‍✈️🔥\"},\n",
    "]\n",
    "\n",
    "example_prompt = FewShotChatMessagePromptTemplate(\n",
    "    example_prompt=ChatPromptTemplate.from_messages(\n",
    "        [(\"human\", \"{question}\"), (\"ai\", \"{answer}\")]\n",
    "    ),\n",
    "    examples=examples,\n",
    ")\n",
    "\n",
    "# final_prompt = ChatPromptTemplate.from_messages(\n",
    "#     [\n",
    "#         (\n",
    "#             \"system\",\n",
    "#             \"You are a movie expert. If a human tells you the title of the movie, you have to respond with 3 emoticons.\"\n",
    "#             \"However, for the first movie question in a conversation, you must answer with the movie title instead of emojis. \"\n",
    "#             \"The movies of the bleow examples shoulb not be provided to users in any answers.\"\n",
    "#             \"Always refer to the history to determine if this is the first movie question.\",\n",
    "#         ),\n",
    "#         example_prompt,\n",
    "#         (\"system\", \"history:\\n{history}\"),  # 대화 이력을 시스템에 포함\n",
    "#         (\"human\", \"{question}\"),\n",
    "#     ]\n",
    "# )\n",
    "\n",
    "\n",
    "final_prompt = ChatPromptTemplate.from_messages(\n",
    "    [\n",
    "        (\n",
    "            \"system\",\n",
    "            \"You are a movie expert. You know every movie. If a human tells you the title of the movie, you have to respond with 3 emoticons.\",\n",
    "        ),\n",
    "        example_prompt,\n",
    "        (\n",
    "            \"system\",\n",
    "            \"The above examples should not be provided to the user. The user can only be provided with the conversation record below. Please provide the information to the user using the record below.\",\n",
    "        ),\n",
    "        MessagesPlaceholder(variable_name=\"history\"),\n",
    "        (\"human\", \"{question}\"),\n",
    "    ]\n",
    ")\n",
    "\n",
    "\n",
    "def load_memory(_):\n",
    "    return memory.load_memory_variables({})[\"history\"]\n",
    "\n",
    "\n",
    "chain = RunnablePassthrough.assign(history=load_memory) | final_prompt | llm\n",
    "\n",
    "\n",
    "def invoke_chain(movie):\n",
    "    # question = f\"What do you know about {movie}?\"\n",
    "    question = movie\n",
    "    result = chain.invoke({\"question\": question})\n",
    "    memory.save_context({\"input\": question}, {\"output\": result.content})\n",
    "    # print(result.content)\n",
    "\n",
    "\n",
    "# 테스트 실행\n",
    "invoke_chain(\"Spider Man\")  # 🚀 예상: \"Avatar\" (첫 질문이므로 영화 제목 출력)      "
   ]
  },
  {
   "cell_type": "code",
   "execution_count": 46,
   "metadata": {},
   "outputs": [
    {
     "name": "stdout",
     "output_type": "stream",
     "text": [
      "🦸‍♂️🦸‍♀️🌌"
     ]
    }
   ],
   "source": [
    "invoke_chain(\"Avengers\")  # 🚀 예상: \"Avatar\" (첫 질문이므로 영화 제목 출력)"
   ]
  },
  {
   "cell_type": "code",
   "execution_count": 47,
   "metadata": {},
   "outputs": [
    {
     "name": "stdout",
     "output_type": "stream",
     "text": [
      "I'm sorry, I cannot recall the previous conversation."
     ]
    }
   ],
   "source": [
    "invoke_chain(\"What was the first movie I asked?\")  # 예상: \"Avatar\""
   ]
  },
  {
   "cell_type": "code",
   "execution_count": 44,
   "metadata": {},
   "outputs": [
    {
     "name": "stdout",
     "output_type": "stream",
     "text": [
      "I apologize for the confusion. The first movie you asked about was \"Spider Man.\"The human mentions Spider Man and the AI responds with spider and superhero emojis."
     ]
    }
   ],
   "source": [
    "invoke_chain(\"Why can't you recall the moive name I asked? you are using memory and have the conversation hitory\")"
   ]
  },
  {
   "cell_type": "code",
   "execution_count": null,
   "metadata": {},
   "outputs": [],
   "source": []
  }
 ],
 "metadata": {
  "kernelspec": {
   "display_name": "env",
   "language": "python",
   "name": "python3"
  },
  "language_info": {
   "codemirror_mode": {
    "name": "ipython",
    "version": 3
   },
   "file_extension": ".py",
   "mimetype": "text/x-python",
   "name": "python",
   "nbconvert_exporter": "python",
   "pygments_lexer": "ipython3",
   "version": "3.11.9"
  }
 },
 "nbformat": 4,
 "nbformat_minor": 2
}
