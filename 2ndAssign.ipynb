{
 "cells": [
  {
   "cell_type": "code",
   "execution_count": null,
   "metadata": {},
   "outputs": [
    {
     "name": "stdout",
     "output_type": "stream",
     "text": [
      "I'm sorry, but I couldn't find any information about a movie titled \"The Secret Not Be Able to Say.\" It's possible that the title might be incorrect or the movie is not well-known. If you have any other questions or if you provide more details, I'd be happy to try to help."
     ]
    },
    {
     "data": {
      "text/plain": [
       "AIMessageChunk(content='I\\'m sorry, but I couldn\\'t find any information about a movie titled \"The Secret Not Be Able to Say.\" It\\'s possible that the title might be incorrect or the movie is not well-known. If you have any other questions or if you provide more details, I\\'d be happy to try to help.')"
      ]
     },
     "execution_count": 2,
     "metadata": {},
     "output_type": "execute_result"
    }
   ],
   "source": [
    "from langchain.chat_models import ChatOpenAI\n",
    "from langchain.prompts.few_shot import FewShotChatMessagePromptTemplate\n",
    "from langchain.callbacks import StreamingStdOutCallbackHandler\n",
    "from langchain.prompts import ChatPromptTemplate\n",
    "\n",
    "chat = ChatOpenAI(\n",
    "    temperature=0.1, streaming=True, callbacks=[StreamingStdOutCallbackHandler()]\n",
    ")\n",
    "\n",
    "examples = [\n",
    "    {\n",
    "        \"movie\": \"The Godfather?\",\n",
    "        \"answer\": \"\"\"\n",
    "Here is what I know:\n",
    "Director: Francis Ford Coppola\n",
    "Primary Actors : Marlon Brando, Al Pacino, James Caan, Robert Duvall\n",
    "Budget: Around $6 million\n",
    "Profit: Around $250 million (Global Box Office)\n",
    "Genre: Crime, Drama\n",
    "Short Synopsis: Centered on the Corleone family, an Italian-American mafia dynasty, the film chronicles the transfer of power from the aging patriarch Vito Corleone (Marlon Brando) to his reluctant son Michael Corleone (Al Pacino). As Michael is drawn deeper into the ruthless world of organized crime, he transforms into the new Godfather, marking one of the greatest character arcs in cinema history.\n",
    "\"\"\",\n",
    "    },\n",
    "    {\n",
    "        \"movie\": \"Titanic?\",\n",
    "        \"answer\": \"\"\"\n",
    "Here is what I know:\n",
    "Director: James Cameron\n",
    "Primary Actors : Leonardo DiCaprio, Kate Winslet, Billy Zane, Kathy Bates\n",
    "Budget: Around $200 million\n",
    "Profit: Around $2.2 billion (Global Box Office, ranked 4th all-time)\n",
    "Genre: Romance, Drama, Disaster\n",
    "Short Synopsis: Based on a true story, this film blends romance and disaster elements. Set in 1912, it follows the ill-fated maiden voyage of the luxury liner Titanic, which strikes an iceberg and sinks. The story revolves around the passionate love affair between Jack (Leonardo DiCaprio) and Rose (Kate Winslet), who come from different social classes but defy all odds to be together.\n",
    "\"\"\",\n",
    "    },\n",
    "    {\n",
    "        \"movie\": \"The Shawshank Redemption?\",\n",
    "        \"answer\": \"\"\"\n",
    "I know this:\n",
    "Here is what I know:\n",
    "Director: Frank Darabont\n",
    "Primary Actors: Tim Robbins, Morgan Freeman, Bob Gunton, William Sadler\n",
    "Budget: Around $25 million\n",
    "Profit: Around $73 million (Box Office + Home Video Sales)\n",
    "Genre: Drama, Prison Film\n",
    "Short Synopsis:After being wrongfully convicted and sentenced to life in Shawshank Prison, Andy Dufresne (Tim Robbins) befriends Red (Morgan Freeman) and navigates life behind bars with intelligence and hope. The film explores themes of friendship, injustice, and the enduring power of hope, leading to an unexpected and brilliant twist.\n",
    "\"\"\",\n",
    "    },\n",
    "]\n",
    "\n",
    "# AI야 너 이렇게 질문이 들어오면 저렇게 답변 했었어! 라고 주입 교육\n",
    "example_prompt = ChatPromptTemplate.from_messages(\n",
    "    [(\"human\", \"What do you know about {movie}?\"), (\"ai\", \"{answer}\")]\n",
    ")\n",
    "\n",
    "example_prompt = FewShotChatMessagePromptTemplate(\n",
    "    example_prompt=example_prompt,\n",
    "    examples=examples,\n",
    ")\n",
    "\n",
    "final_prompt = ChatPromptTemplate.from_messages(\n",
    "    [\n",
    "        (\"system\", \"You are a movie expert\"),\n",
    "        example_prompt,\n",
    "        (\"human\", \"What do you know about {movie}?\"),\n",
    "    ]\n",
    ")\n",
    "\n",
    "chain = final_prompt | chat\n",
    "\n",
    "chain.invoke({\"movie\": \"Avengers\"})"
   ]
  },
  {
   "cell_type": "code",
   "execution_count": null,
   "metadata": {},
   "outputs": [],
   "source": []
  }
 ],
 "metadata": {
  "kernelspec": {
   "display_name": "env",
   "language": "python",
   "name": "python3"
  },
  "language_info": {
   "codemirror_mode": {
    "name": "ipython",
    "version": 3
   },
   "file_extension": ".py",
   "mimetype": "text/x-python",
   "name": "python",
   "nbconvert_exporter": "python",
   "pygments_lexer": "ipython3",
   "version": "3.11.9"
  }
 },
 "nbformat": 4,
 "nbformat_minor": 2
}
