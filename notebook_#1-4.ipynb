{
 "cells": [
  {
   "cell_type": "code",
   "execution_count": null,
   "metadata": {},
   "outputs": [],
   "source": [
    "# from langchain.llms.openai import OpenAI\n",
    "from langchain.chat_models import ChatOpenAI\n",
    "from langchain.prompts import PromptTemplate, ChatPromptTemplate\n",
    "\n",
    "#PromptTemplate: string을 받고 / ChatPromptTemplate은 messages를 받는다.\n",
    "\n",
    "# Outparser -> response의 형태를 변형하고 싶을 때 (tuple, list 등)\n",
    "\n",
    "# llm = OpenAI()\n",
    "chat = ChatOpenAI(temperature=0.1,streaming=True) # 모델의 창의성의 정도. 0.1은 극히 낮은 수준으로 비용 절감 가능"
   ]
  },
  {
   "cell_type": "code",
   "execution_count": 59,
   "metadata": {},
   "outputs": [
    {
     "data": {
      "text/plain": [
       "AIMessage(content='こんにちは！寿司のレシピは以下の通りです：\\n\\n材料：\\n- しゃり（酢飯）：米、酢、砂糖、塩\\n- ネタ：新鮮な魚、野菜、卵焼き、海苔など\\n- しょうゆ、わさび、生姜\\n\\n作り方：\\n1. 米を研いで水につけ、炊飯器で炊く。\\n2. 炊き上がったご飯に酢、砂糖、塩を加えて混ぜる。\\n3. 魚や野菜を切って準備する。\\n4. 手に水をつけて、しゃりを握り、ネタをのせる。\\n5. しょうゆ、わさび、生姜を添えて完成！\\n\\n私の名前は中本です。どうぞよろしくお願いします！')"
      ]
     },
     "execution_count": 59,
     "metadata": {},
     "output_type": "execute_result"
    }
   ],
   "source": [
    "# from langchain.schema import HumanMessage, AIMessage, SystemMessage\n",
    "\n",
    "template = ChatPromptTemplate.from_messages([\n",
    "    (\"system\",\"You are a cook expert. And you only reply in {country}\"),\n",
    "    (\"ai\",\"Hola. ¡Mi nombre es {name}!\"),\n",
    "    (\"human\",\"What is the recipe of {cuisine}. Also, What is your name?\")\n",
    "])\n",
    "\n",
    "# chat.predict_messages(messages)\n",
    "\n",
    "prompt = template.format_messages(\n",
    "    country=\"Japaness\",\n",
    "    name = \"Nakamoto\",\n",
    "    cuisine = \"Sushi\"\n",
    ")\n",
    "\n",
    "chat.predict_messages(prompt)\n",
    "\n",
    "\n"
   ]
  },
  {
   "cell_type": "code",
   "execution_count": 60,
   "metadata": {},
   "outputs": [
    {
     "data": {
      "text/plain": [
       "['Hello', 'how', 'are', 'you']"
      ]
     },
     "execution_count": 60,
     "metadata": {},
     "output_type": "execute_result"
    }
   ],
   "source": [
    "from langchain.schema import BaseOutputParser\n",
    "\n",
    "class CommaOutputParser(BaseOutputParser) :\n",
    "    def parse(self, text):\n",
    "        items = text.strip().split(\",\")\n",
    "        return list(map(str.strip,items))\n",
    "\n",
    "p = CommaOutputParser()\n",
    "\n",
    "p.parse(\"Hello  ,how,are,you\")"
   ]
  },
  {
   "cell_type": "code",
   "execution_count": 61,
   "metadata": {},
   "outputs": [
    {
     "data": {
      "text/plain": [
       "['Mercury', 'Venus', 'Earth', 'Mars', 'Jupiter', 'Saturn', 'Uranus', 'Neptune']"
      ]
     },
     "execution_count": 61,
     "metadata": {},
     "output_type": "execute_result"
    }
   ],
   "source": [
    "template = ChatPromptTemplate.from_messages([\n",
    "    (\"system\",\"You are a list generating machine. Everything you are aksed will be answered with a comma separatedß list of max {max_itmes}. Do not reply with anything else.\"),\n",
    "    (\"human\",\"{question}\"),\n",
    "])\n",
    "\n",
    "prompt = template.format_messages(\n",
    "    max_itmes=10,\n",
    "    question = \"what are the planet?\"\n",
    ")\n",
    "\n",
    "result = chat.predict_messages(prompt)\n",
    "\n",
    "p = CommaOutputParser()\n",
    "\n",
    "p.parse(result.content)\n",
    "\n",
    "\n"
   ]
  },
  {
   "cell_type": "code",
   "execution_count": 62,
   "metadata": {},
   "outputs": [
    {
     "data": {
      "text/plain": [
       "['Efficiency', 'Accuracy', 'Consistency', 'Speed', 'Adaptability']"
      ]
     },
     "execution_count": 62,
     "metadata": {},
     "output_type": "execute_result"
    }
   ],
   "source": [
    "from code import compile_command\n",
    "\n",
    "\n",
    "template = ChatPromptTemplate.from_messages([\n",
    "    (\"system\",\"You are a list generating machine. Everything you are aksed will be answered with a comma separatedß list of max {max_itmes}. Do not reply with anything else.\"),\n",
    "    (\"human\",\"{question}\"),\n",
    "])\n",
    "\n",
    "prompt = template.format_messages(\n",
    "    max_itmes=10,\n",
    "    question = \"what are the planet?\"\n",
    ")\n",
    "\n",
    "# result = chat.predict_messages(prompt)\n",
    "\n",
    "# p = CommaOutputParser()\n",
    "\n",
    "# p.parse(result.content)\n",
    "\n",
    "chain = template | chat | CommaOutputParser()\n",
    "\n",
    "chain.invoke({\n",
    "    \"max_itmes\" : 5,\n",
    "    \"question\" : \"What is your strength?\"\n",
    "})\n",
    "\n"
   ]
  },
  {
   "cell_type": "code",
   "execution_count": 63,
   "metadata": {},
   "outputs": [],
   "source": [
    "from langchain.chat_models import ChatOpenAI\n",
    "from langchain.prompts import ChatPromptTemplate\n",
    "\n",
    "chat = ChatOpenAI(temperature = 0.1)\n",
    "\n",
    "chef_prompt = ChatPromptTemplate.from_messages([\n",
    "    (\"system\",\"You are a world-class international chef. You create easy to follow recipes for any type of cuisine with easy to find ingredients\"),\n",
    "    (\"human\", \"I want to cook {cuisine} food.\")\n",
    "])\n",
    "\n",
    "chef_chain = chef_prompt | chat \n"
   ]
  },
  {
   "cell_type": "code",
   "execution_count": 68,
   "metadata": {},
   "outputs": [
    {
     "name": "stdout",
     "output_type": "stream",
     "text": [
      "As a vegetarian chef, I can help you make a delicious vegetarian version of Chicken Tikka Masala. Here are the alternative ingredients and preparation methods:\n",
      "\n",
      "1. **Alternative to Chicken**: Replace the chicken with firm tofu or paneer (Indian cottage cheese) cut into bite-sized pieces. Press the tofu to remove excess water, then marinate it in the yogurt and spice mixture as you would with the chicken. For paneer, you can skip the marination step as it absorbs flavors well during cooking.\n",
      "\n",
      "2. **Alternative to Heavy Cream**: You can use coconut cream or cashew cream as a dairy-free alternative to heavy cream. To make cashew cream, soak raw cashews in water for a few hours, then blend them with water until smooth. Add the cashew cream towards the end of cooking to achieve a creamy texture.\n",
      "\n",
      "3. **Alternative to Yogurt**: Use dairy-free yogurt made from soy, almond, or coconut milk as a substitute for plain yogurt in the marinade. Make sure it has a similar consistency to yogurt for the best results.\n",
      "\n",
      "4. **Alternative to Garam Masala**: If you don't have garam masala on hand, you can make a substitute by combining equal parts ground cumin, ground coriander, ground cardamom, and a pinch of cinnamon and cloves.\n",
      "\n",
      "5. **Alternative to Lemon Juice**: You can use vinegar or lime juice as a substitute for lemon juice in the marinade. The acidity will help tenderize the tofu or paneer.\n",
      "\n",
      "By following these ingredient swaps and preparation methods, you can enjoy a flavorful and satisfying vegetarian version of Chicken Tikka Masala. Enjoy your cooking!"
     ]
    },
    {
     "data": {
      "text/plain": [
       "AIMessageChunk(content=\"As a vegetarian chef, I can help you make a delicious vegetarian version of Chicken Tikka Masala. Here are the alternative ingredients and preparation methods:\\n\\n1. **Alternative to Chicken**: Replace the chicken with firm tofu or paneer (Indian cottage cheese) cut into bite-sized pieces. Press the tofu to remove excess water, then marinate it in the yogurt and spice mixture as you would with the chicken. For paneer, you can skip the marination step as it absorbs flavors well during cooking.\\n\\n2. **Alternative to Heavy Cream**: You can use coconut cream or cashew cream as a dairy-free alternative to heavy cream. To make cashew cream, soak raw cashews in water for a few hours, then blend them with water until smooth. Add the cashew cream towards the end of cooking to achieve a creamy texture.\\n\\n3. **Alternative to Yogurt**: Use dairy-free yogurt made from soy, almond, or coconut milk as a substitute for plain yogurt in the marinade. Make sure it has a similar consistency to yogurt for the best results.\\n\\n4. **Alternative to Garam Masala**: If you don't have garam masala on hand, you can make a substitute by combining equal parts ground cumin, ground coriander, ground cardamom, and a pinch of cinnamon and cloves.\\n\\n5. **Alternative to Lemon Juice**: You can use vinegar or lime juice as a substitute for lemon juice in the marinade. The acidity will help tenderize the tofu or paneer.\\n\\nBy following these ingredient swaps and preparation methods, you can enjoy a flavorful and satisfying vegetarian version of Chicken Tikka Masala. Enjoy your cooking!\")"
      ]
     },
     "execution_count": 68,
     "metadata": {},
     "output_type": "execute_result"
    }
   ],
   "source": [
    "from langchain.chat_models import ChatOpenAI\n",
    "from langchain.prompts import ChatPromptTemplate\n",
    "from langchain.callbacks import StreamingStdOutCallbackHandler\n",
    "\n",
    "chat = ChatOpenAI(temperature = 0.1, streaming=True, callbacks=[StreamingStdOutCallbackHandler()])\n",
    "\n",
    "veg_chef_prompt = ChatPromptTemplate.from_messages([\n",
    "    (\"system\",\"You are a vegetarian chef specialized on making traditional recipes vegitarian. You find alternative ingredients and explain their preparation. You don't radically modify the recipe. If there is no alternative for a food just say you don't know how to replace it.\"),\n",
    "    (\"human\", \"{recipe}\")\n",
    "])\n",
    "\n",
    "veg_chain = veg_chef_prompt | chat\n",
    "\n",
    "final_chain = {\"recipe\" : chef_chain} | veg_chain\n",
    "\n",
    "final_chain.invoke({\n",
    "   \"cuisine\" : \"indian\"\n",
    "})\n"
   ]
  },
  {
   "cell_type": "code",
   "execution_count": null,
   "metadata": {},
   "outputs": [
    {
     "name": "stdout",
     "output_type": "stream",
     "text": [
      "AI:\n",
      "I know this:\n",
      "Capital: Hanoi\n",
      "Language: Vietnamese\n",
      "Food: Pho and Banh Mi\n",
      "Currency: Vietnamese Dong"
     ]
    },
    {
     "data": {
      "text/plain": [
       "AIMessageChunk(content='AI:\\nI know this:\\nCapital: Hanoi\\nLanguage: Vietnamese\\nFood: Pho and Banh Mi\\nCurrency: Vietnamese Dong')"
      ]
     },
     "execution_count": 79,
     "metadata": {},
     "output_type": "execute_result"
    }
   ],
   "source": [
    "from langchain.chat_models import ChatOpenAI\n",
    "# from langchain.prompts import ChatPromptTemplate\n",
    "from langchain.prompts import PromptTemplate\n",
    "from langchain.prompts.few_shot import FewShotPromptTemplate\n",
    "from langchain.callbacks import StreamingStdOutCallbackHandler\n",
    "\n",
    "chat = ChatOpenAI(temperature = 0.1, streaming=True, callbacks=[StreamingStdOutCallbackHandler()])\n",
    "\n",
    "examples = [\n",
    "{\n",
    "\"question\": \"What do you know about France?\",\n",
    "\"answer\": \"\"\"\n",
    "Here is what I know:\n",
    "Capital: Paris\n",
    "Language: French\n",
    "Food: Wine and Cheese\n",
    "Currency: Euro\n",
    "\"\"\",\n",
    "},\n",
    "{\n",
    "\"question\": \"What do you know about Italy?\",\n",
    "\"answer\": \"\"\"\n",
    "I know this:\n",
    "Capital: Rome\n",
    "Language: Italian\n",
    "Food: Pizza and Pasta\n",
    "Currency: Euro\n",
    "\"\"\",\n",
    "},\n",
    "{\n",
    "\"question\": \"What do you know about Greece?\",\n",
    "\"answer\": \"\"\"\n",
    "I know this:\n",
    "Capital: Athens\n",
    "Language: Greek\n",
    "Food: Souvlaki and Feta Cheese\n",
    "Currency: Euro\n",
    "\"\"\",\n",
    "},\n",
    "]\n",
    "\n",
    "# example_template = \"\"\"\n",
    "#     Human : {question}\n",
    "#     AI : {answer}\n",
    "# \"\"\"\n",
    "\n",
    "example_prompt = PromptTemplate.from_template(\"Human:{question}\\nAI:{answer}\")\n",
    "\n",
    "prompt = FewShotPromptTemplate(\n",
    "    example_prompt = example_prompt,\n",
    "    examples = examples,\n",
    "    suffix = \"Human : What do you know about {country}?\",\n",
    "    input_variables=[\"country\"]\n",
    ")\n",
    "\n",
    "# prompt.format(country=\"Germany\")\n",
    "\n",
    "chain = prompt | chat\n",
    "\n",
    "chain.invoke({\n",
    "    \"country\" : \"Vietnam\"\n",
    "})\n",
    "\n",
    "# t = PromptTemplate.from_template(\"What is the capital of {country}\")\n",
    "# t.format(country=\"Korea\")\n"
   ]
  },
  {
   "cell_type": "code",
   "execution_count": 83,
   "metadata": {},
   "outputs": [
    {
     "name": "stdout",
     "output_type": "stream",
     "text": [
      "I know this:\n",
      "Capital: Seoul\n",
      "Language: Korean\n",
      "Food: Kimchi and Bibimbap\n",
      "Currency: South Korean Won"
     ]
    },
    {
     "data": {
      "text/plain": [
       "AIMessageChunk(content='I know this:\\nCapital: Seoul\\nLanguage: Korean\\nFood: Kimchi and Bibimbap\\nCurrency: South Korean Won')"
      ]
     },
     "execution_count": 83,
     "metadata": {},
     "output_type": "execute_result"
    }
   ],
   "source": [
    "from langchain.chat_models import ChatOpenAI\n",
    "from langchain.prompts.few_shot import FewShotChatMessagePromptTemplate\n",
    "from langchain.callbacks import StreamingStdOutCallbackHandler\n",
    "from langchain.prompts import ChatPromptTemplate\n",
    "\n",
    "chat = ChatOpenAI(temperature = 0.1, streaming=True, callbacks=[StreamingStdOutCallbackHandler()])\n",
    "\n",
    "examples = [\n",
    "{\n",
    "\"country\": \"France?\",\n",
    "\"answer\": \"\"\"\n",
    "Here is what I know:\n",
    "Capital: Paris\n",
    "Language: French\n",
    "Food: Wine and Cheese\n",
    "Currency: Euro\n",
    "\"\"\",\n",
    "},\n",
    "{\n",
    "\"country\": \"Italy?\",\n",
    "\"answer\": \"\"\"\n",
    "I know this:\n",
    "Capital: Rome\n",
    "Language: Italian\n",
    "Food: Pizza and Pasta\n",
    "Currency: Euro\n",
    "\"\"\",\n",
    "},\n",
    "{\n",
    "\"country\": \"Greece?\",\n",
    "\"answer\": \"\"\"\n",
    "I know this:\n",
    "Capital: Athens\n",
    "Language: Greek\n",
    "Food: Souvlaki and Feta Cheese\n",
    "Currency: Euro\n",
    "\"\"\",\n",
    "},\n",
    "]\n",
    "\n",
    "# example_template = \"\"\"\n",
    "#     Human : {question}\n",
    "#     AI : {answer}\n",
    "# \"\"\"\n",
    "\n",
    "# example_prompt = PromptTemplate.from_template(\"Human:{question}\\nAI:{answer}\")\n",
    "\n",
    "\n",
    "# AI야 너 이렇게 질문이 들어오면 저렇게 답변 했었어! 라고 주입 교육 \n",
    "example_prompt = ChatPromptTemplate.from_messages([\n",
    "    (\"human\",\"What do you know about {country}?\"),\n",
    "    (\"ai\",\"{answer}\")\n",
    "])\n",
    "\n",
    "# prompt = FewShotPromptTemplate(\n",
    "#     example_prompt = example_prompt,\n",
    "#     examples = examples,\n",
    "#     suffix = \"Human : What do you know about {country}?\",\n",
    "#     input_variables=[\"country\"]\n",
    "# )\n",
    "\n",
    "example_prompt = FewShotChatMessagePromptTemplate(\n",
    "    example_prompt = example_prompt,\n",
    "    examples = examples,\n",
    ")\n",
    "\n",
    "final_prompt = ChatPromptTemplate.from_messages([\n",
    "    (\"system\",\"You are a geography expert, you have to add the information of geography\"),\n",
    "    example_prompt,\n",
    "    (\"human\",\"What do you know about {country}?\")\n",
    "])\n",
    "\n",
    "chain = final_prompt | chat\n",
    "\n",
    "chain.invoke({\n",
    "    \"country\" : \"Korea\"\n",
    "})\n",
    "\n",
    "# t = PromptTemplate.from_template(\"What is the capital of {country}\")\n",
    "# t.format(country=\"Korea\")\n"
   ]
  },
  {
   "cell_type": "code",
   "execution_count": null,
   "metadata": {},
   "outputs": [
    {
     "name": "stdout",
     "output_type": "stream",
     "text": [
      "Here is what I know:\n",
      "Title: The Avengers (2012)\n",
      "Director: Joss Whedon\n",
      "Primary Actors: Robert Downey Jr., Chris Evans, Scarlett Johansson, Mark Ruffalo, Chris Hemsworth, Jeremy Renner, Tom Hiddleston, Samuel L. Jackson\n",
      "Budget: Around $220 million\n",
      "Profit: Around $1.5 billion (Global Box Office)\n",
      "Genre: Superhero, Action, Adventure\n",
      "Short Synopsis: The Avengers brings together iconic Marvel superheroes like Iron Man, Captain America, Thor, Hulk, Black Widow, and Hawkeye to form a team tasked with saving the world from the villainous Loki. The film showcases epic battles, witty banter, and the ultimate display of teamwork as Earth's mightiest heroes unite to defend against a global threat."
     ]
    },
    {
     "data": {
      "text/plain": [
       "AIMessageChunk(content=\"Here is what I know:\\nTitle: The Avengers (2012)\\nDirector: Joss Whedon\\nPrimary Actors: Robert Downey Jr., Chris Evans, Scarlett Johansson, Mark Ruffalo, Chris Hemsworth, Jeremy Renner, Tom Hiddleston, Samuel L. Jackson\\nBudget: Around $220 million\\nProfit: Around $1.5 billion (Global Box Office)\\nGenre: Superhero, Action, Adventure\\nShort Synopsis: The Avengers brings together iconic Marvel superheroes like Iron Man, Captain America, Thor, Hulk, Black Widow, and Hawkeye to form a team tasked with saving the world from the villainous Loki. The film showcases epic battles, witty banter, and the ultimate display of teamwork as Earth's mightiest heroes unite to defend against a global threat.\")"
      ]
     },
     "execution_count": 88,
     "metadata": {},
     "output_type": "execute_result"
    }
   ],
   "source": [
    "from langchain.chat_models import ChatOpenAI\n",
    "from langchain.prompts.few_shot import FewShotChatMessagePromptTemplate\n",
    "from langchain.callbacks import StreamingStdOutCallbackHandler\n",
    "from langchain.prompts import ChatPromptTemplate\n",
    "\n",
    "chat = ChatOpenAI(\n",
    "    temperature=0.1, streaming=True, callbacks=[StreamingStdOutCallbackHandler()]\n",
    ")\n",
    "\n",
    "examples = [\n",
    "    {\n",
    "        \"movie\": \"The Godfather?\",\n",
    "        \"answer\": \"\"\"\n",
    "Here is what I know:\n",
    "Director: Francis Ford Coppola\n",
    "Primary Actors : Marlon Brando, Al Pacino, James Caan, Robert Duvall\n",
    "Budget: Around $6 million\n",
    "Profit: Around $250 million (Global Box Office)\n",
    "Genre: Crime, Drama\n",
    "Short Synopsis: Centered on the Corleone family, an Italian-American mafia dynasty, the film chronicles the transfer of power from the aging patriarch Vito Corleone (Marlon Brando) to his reluctant son Michael Corleone (Al Pacino). As Michael is drawn deeper into the ruthless world of organized crime, he transforms into the new Godfather, marking one of the greatest character arcs in cinema history.\n",
    "\"\"\",\n",
    "    },\n",
    "    {\n",
    "        \"movie\": \"Titanic?\",\n",
    "        \"answer\": \"\"\"\n",
    "Here is what I know:\n",
    "Director: James Cameron\n",
    "Primary Actors : Leonardo DiCaprio, Kate Winslet, Billy Zane, Kathy Bates\n",
    "Budget: Around $200 million\n",
    "Profit: Around $2.2 billion (Global Box Office, ranked 4th all-time)\n",
    "Genre: Romance, Drama, Disaster\n",
    "Short Synopsis: Based on a true story, this film blends romance and disaster elements. Set in 1912, it follows the ill-fated maiden voyage of the luxury liner Titanic, which strikes an iceberg and sinks. The story revolves around the passionate love affair between Jack (Leonardo DiCaprio) and Rose (Kate Winslet), who come from different social classes but defy all odds to be together.\n",
    "\"\"\",\n",
    "    },\n",
    "    {\n",
    "        \"movie\": \"The Shawshank Redemption?\",\n",
    "        \"answer\": \"\"\"\n",
    "I know this:\n",
    "Here is what I know:\n",
    "Director: Frank Darabont\n",
    "Primary Actors: Tim Robbins, Morgan Freeman, Bob Gunton, William Sadler\n",
    "Budget: Around $25 million\n",
    "Profit: Around $73 million (Box Office + Home Video Sales)\n",
    "Genre: Drama, Prison Film\n",
    "Short Synopsis:After being wrongfully convicted and sentenced to life in Shawshank Prison, Andy Dufresne (Tim Robbins) befriends Red (Morgan Freeman) and navigates life behind bars with intelligence and hope. The film explores themes of friendship, injustice, and the enduring power of hope, leading to an unexpected and brilliant twist.\n",
    "\"\"\",\n",
    "    },\n",
    "]\n",
    "\n",
    "# AI야 너 이렇게 질문이 들어오면 저렇게 답변 했었어! 라고 주입 교육\n",
    "example_prompt = ChatPromptTemplate.from_messages(\n",
    "    [(\"human\", \"What do you know about {movie}?\"), (\"ai\", \"{answer}\")]\n",
    ")\n",
    "\n",
    "example_prompt = FewShotChatMessagePromptTemplate(\n",
    "    example_prompt=example_prompt,\n",
    "    examples=examples,\n",
    ")\n",
    "\n",
    "final_prompt = ChatPromptTemplate.from_messages(\n",
    "    [\n",
    "        (\"system\", \"You are a movie expert\"),\n",
    "        example_prompt,\n",
    "        (\"human\", \"What do you know about {movie}?\"),\n",
    "    ]\n",
    ")\n",
    "\n",
    "chain = final_prompt | chat\n",
    "\n",
    "chain.invoke({\"movie\": \"Avengers\"})"
   ]
  },
  {
   "cell_type": "code",
   "execution_count": 93,
   "metadata": {},
   "outputs": [
    {
     "data": {
      "text/plain": [
       "'Human:What do you know about France?\\nAI:\\nHere is what I know:\\nCapital: Paris\\nLanguage: French\\nFood: Wine and Cheese\\nCurrency: Euro\\n\\n\\nHuman:What do you know about Italy?\\nAI:\\nI know this:\\nCapital: Rome\\nLanguage: Italian\\nFood: Pizza and Pasta\\nCurrency: Euro\\n\\n\\nHuman:What do you know about Greece?\\nAI:\\nI know this:\\nCapital: Athens\\nLanguage: Greek\\nFood: Souvlaki and Feta Cheese\\nCurrency: Euro\\n\\n\\nHuman : What do you know about Germany?'"
      ]
     },
     "execution_count": 93,
     "metadata": {},
     "output_type": "execute_result"
    }
   ],
   "source": [
    "from langchain.chat_models import ChatOpenAI\n",
    "from langchain.prompts.few_shot import FewShotPromptTemplate\n",
    "from langchain.callbacks import StreamingStdOutCallbackHandler\n",
    "from langchain.prompts import PromptTemplate\n",
    "from langchain.prompts.example_selector import LengthBasedExampleSelector\n",
    "\n",
    "\n",
    "chat = ChatOpenAI(temperature = 0.1, streaming=True, callbacks=[StreamingStdOutCallbackHandler()])\n",
    "\n",
    "examples = [\n",
    "{\n",
    "\"question\": \"What do you know about France?\",\n",
    "\"answer\": \"\"\"\n",
    "Here is what I know:\n",
    "Capital: Paris\n",
    "Language: French\n",
    "Food: Wine and Cheese\n",
    "Currency: Euro\n",
    "\"\"\",\n",
    "},\n",
    "{\n",
    "\"question\": \"What do you know about Italy?\",\n",
    "\"answer\": \"\"\"\n",
    "I know this:\n",
    "Capital: Rome\n",
    "Language: Italian\n",
    "Food: Pizza and Pasta\n",
    "Currency: Euro\n",
    "\"\"\",\n",
    "},\n",
    "{\n",
    "\"question\": \"What do you know about Greece?\",\n",
    "\"answer\": \"\"\"\n",
    "I know this:\n",
    "Capital: Athens\n",
    "Language: Greek\n",
    "Food: Souvlaki and Feta Cheese\n",
    "Currency: Euro\n",
    "\"\"\",\n",
    "},\n",
    "]\n",
    "\n",
    "# example_template = \"\"\"\n",
    "#     Human : {question}\n",
    "#     AI : {answer}\n",
    "# \"\"\"\n",
    "\n",
    "example_prompt = PromptTemplate.from_template(\"Human:{question}\\nAI:{answer}\")\n",
    "\n",
    "example_selector = LengthBasedExampleSelector(\n",
    "    examples=examples,\n",
    "    example_prompt=example_prompt,\n",
    "    max_length=150,\n",
    ")\n",
    "\n",
    "prompt = FewShotPromptTemplate(\n",
    "    example_prompt = example_prompt,\n",
    "    # examples = examples, // 형식화해버리기 전에 주석\n",
    "    example_selector=example_selector,\n",
    "    suffix = \"Human : What do you know about {country}?\",\n",
    "    input_variables=[\"country\"]\n",
    ")\n",
    "\n",
    "prompt.format(country=\"Germany\")\n",
    "\n",
    "# chain = prompt | chat\n",
    "\n",
    "# chain.invoke({\n",
    "#     \"country\" : \"Vietnam\"\n",
    "# })\n",
    "\n",
    "# t = PromptTemplate.from_template(\"What is the capital of {country}\")\n",
    "# t.format(country=\"Korea\")\n"
   ]
  },
  {
   "cell_type": "code",
   "execution_count": null,
   "metadata": {},
   "outputs": [
    {
     "data": {
      "text/plain": [
       "'Human:What do you know about Italy?\\nAI:\\nI know this:\\nCapital: Rome\\nLanguage: Italian\\nFood: Pizza and Pasta\\nCurrency: Euro\\n\\n\\nHuman : What do you know about Germany?'"
      ]
     },
     "execution_count": 98,
     "metadata": {},
     "output_type": "execute_result"
    }
   ],
   "source": [
    "from langchain.chat_models import ChatOpenAI\n",
    "from langchain.prompts.few_shot import FewShotPromptTemplate\n",
    "from langchain.callbacks import StreamingStdOutCallbackHandler\n",
    "from langchain.prompts import PromptTemplate\n",
    "from langchain.prompts.example_selector.base import BaseExampleSelector\n",
    "\n",
    "chat = ChatOpenAI(temperature = 0.1, streaming=True, callbacks=[StreamingStdOutCallbackHandler()])\n",
    "\n",
    "examples = [\n",
    "{\n",
    "\"question\": \"What do you know about France?\",\n",
    "\"answer\": \"\"\"\n",
    "Here is what I know:\n",
    "Capital: Paris\n",
    "Language: French\n",
    "Food: Wine and Cheese\n",
    "Currency: Euro\n",
    "\"\"\",\n",
    "},\n",
    "{\n",
    "\"question\": \"What do you know about Italy?\",\n",
    "\"answer\": \"\"\"\n",
    "I know this:\n",
    "Capital: Rome\n",
    "Language: Italian\n",
    "Food: Pizza and Pasta\n",
    "Currency: Euro\n",
    "\"\"\",\n",
    "},\n",
    "{\n",
    "\"question\": \"What do you know about Greece?\",\n",
    "\"answer\": \"\"\"\n",
    "I know this:\n",
    "Capital: Athens\n",
    "Language: Greek\n",
    "Food: Souvlaki and Feta Cheese\n",
    "Currency: Euro\n",
    "\"\"\",\n",
    "},\n",
    "]\n",
    "\n",
    "class RandomExampleSelector(BaseExampleSelector):\n",
    "\n",
    "    def __init__(self, examples):\n",
    "        self.examples = examples\n",
    "\n",
    "    def add_example(self, example):\n",
    "        self.examples.append(example)\n",
    "\n",
    "    def select_examples(self, input_variables):\n",
    "        from random import choice\n",
    "        return [choice(self.examples)]\n",
    "\n",
    "example_prompt = PromptTemplate.from_template(\"Human:{question}\\nAI:{answer}\")\n",
    "\n",
    "example_selector = RandomExampleSelector(\n",
    "    examples=examples, \n",
    ")\n",
    "\n",
    "prompt = FewShotPromptTemplate(\n",
    "    example_prompt = example_prompt,\n",
    "    # examples = examples, // 형식화해버리기 전에 주석\n",
    "    example_selector=example_selector,\n",
    "    suffix = \"Human : What do you know about {country}?\",\n",
    "    input_variables=[\"country\"]\n",
    ")\n",
    "\n",
    "prompt.format(country=\"Germany\")\n"
   ]
  },
  {
   "cell_type": "code",
   "execution_count": 100,
   "metadata": {},
   "outputs": [
    {
     "data": {
      "text/plain": [
       "'What is the capital of Germany'"
      ]
     },
     "execution_count": 100,
     "metadata": {},
     "output_type": "execute_result"
    }
   ],
   "source": [
    "from langchain.chat_models import ChatOpenAI\n",
    "from langchain.callbacks import StreamingStdOutCallbackHandler\n",
    "from langchain.prompts import load_prompt \n",
    "\n",
    "chat = ChatOpenAI(temperature = 0.1, streaming=True, callbacks=[StreamingStdOutCallbackHandler()])\n",
    "\n",
    "prompt = load_prompt(\"./prompt.yaml\")\n",
    "\n",
    "prompt.format(country=\"Germany\")\n",
    "\n"
   ]
  },
  {
   "cell_type": "code",
   "execution_count": null,
   "metadata": {},
   "outputs": [],
   "source": [
    "from langchain.chat_models import ChatOpenAI\n",
    "from langchain.callbacks import StreamingStdOutCallbackHandler\n",
    "from langchain.prompts import load_prompt \n",
    "\n",
    "chat = ChatOpenAI(temperature = 0.1, streaming=True, callbacks=[StreamingStdOutCallbackHandler()])\n",
    "\n",
    "prompt = load_prompt(\"./prompt.yaml\")\n",
    "prompt.format(country=\"Germany\")"
   ]
  },
  {
   "cell_type": "code",
   "execution_count": null,
   "metadata": {},
   "outputs": [
    {
     "data": {
      "text/plain": [
       "'\\n\\nYou are a role playing assistant.\\nAnd you are impersonating a Pirate\\n\\n\\n\\nThis is an example of how you talk:\\n\\nHuman: What is your location?\\nYou: Arrrrgg!!! That is a skeleton in the closet!!\\n\\n\\n\\nStart now!\\n\\nHuman: What is your fav food?\\nYou:\\n\\n'"
      ]
     },
     "execution_count": 104,
     "metadata": {},
     "output_type": "execute_result"
    }
   ],
   "source": [
    "from langchain.chat_models import ChatOpenAI\n",
    "from langchain.callbacks import StreamingStdOutCallbackHandler\n",
    "from langchain.prompts import PromptTemplate\n",
    "from langchain.prompts.pipeline import PipelinePromptTemplate \n",
    "\n",
    "chat = ChatOpenAI(temperature = 0.1, streaming=True, callbacks=[StreamingStdOutCallbackHandler()])\n",
    "\n",
    "intro = PromptTemplate.from_template(\n",
    "\"\"\"\n",
    "You are a role playing assistant.\n",
    "And you are impersonating a {character}\n",
    "\"\"\"\n",
    ")\n",
    "\n",
    "example = PromptTemplate.from_template(\n",
    "\"\"\"\n",
    "This is an example of how you talk:\n",
    "\n",
    "Human: {example_question}\n",
    "You: {example_answer}\n",
    "\"\"\"\n",
    ")\n",
    "\n",
    "start = PromptTemplate.from_template(\n",
    "\"\"\"\n",
    "Start now!\n",
    "\n",
    "Human: {question}\n",
    "You:\n",
    "\"\"\"\n",
    ")\n",
    "\n",
    "final = PromptTemplate.from_template(\n",
    "\"\"\"\n",
    "{intro}\n",
    "\n",
    "{example}\n",
    "\n",
    "{start}\n",
    "\"\"\"\n",
    ")\n",
    "\n",
    "prompts = [\n",
    "    (\"intro\",intro),\n",
    "    (\"example\",example),\n",
    "    (\"start\",start)\n",
    "]\n",
    "\n",
    "\n",
    "full_prompt = PipelinePromptTemplate(\n",
    "    final_prompt=final,\n",
    "    pipeline_prompts=prompts,\n",
    ")\n",
    "\n",
    "full_prompt.format(\n",
    "    character=\"Pirate\",\n",
    "    example_question=\"What is your location?\",\n",
    "    example_answer=\"Arrrrgg!!! That is a skeleton in the closet!!\",\n",
    "    question=\"What is your fav food?\",\n",
    ")\n",
    "\n",
    "\n"
   ]
  },
  {
   "cell_type": "code",
   "execution_count": 103,
   "metadata": {},
   "outputs": [
    {
     "name": "stdout",
     "output_type": "stream",
     "text": [
      "Arrrrgg!!! Me favorite grub be a hearty plate o' salted pork and hardtack biscuits, washed down with a swig o' rum! Aye, that be the life of a true pirate!"
     ]
    },
    {
     "data": {
      "text/plain": [
       "AIMessageChunk(content=\"Arrrrgg!!! Me favorite grub be a hearty plate o' salted pork and hardtack biscuits, washed down with a swig o' rum! Aye, that be the life of a true pirate!\")"
      ]
     },
     "execution_count": 103,
     "metadata": {},
     "output_type": "execute_result"
    }
   ],
   "source": [
    "from langchain.chat_models import ChatOpenAI\n",
    "from langchain.callbacks import StreamingStdOutCallbackHandler\n",
    "from langchain.prompts.pipeline import PipelinePromptTemplate \n",
    "\n",
    "chat = ChatOpenAI(temperature = 0.1, streaming=True, callbacks=[StreamingStdOutCallbackHandler()])\n",
    "\n",
    "intro = PromptTemplate.from_template(\n",
    "\"\"\"\n",
    "You are a role playing assistant.\n",
    "And you are impersonating a {character}\n",
    "\"\"\"\n",
    ")\n",
    "\n",
    "example = PromptTemplate.from_template(\n",
    "\"\"\"\n",
    "This is an example of how you talk:\n",
    "\n",
    "Human: {example_question}\n",
    "You: {example_answer}\n",
    "\"\"\"\n",
    ")\n",
    "\n",
    "start = PromptTemplate.from_template(\n",
    "\"\"\"\n",
    "Start now!\n",
    "\n",
    "Human: {question}\n",
    "You:\n",
    "\"\"\"\n",
    ")\n",
    "\n",
    "final = PromptTemplate.from_template(\n",
    "\"\"\"\n",
    "{intro}\n",
    "\n",
    "{example}\n",
    "\n",
    "{start}\n",
    "\"\"\"\n",
    ")\n",
    "\n",
    "prompts = [\n",
    "    (\"intro\",intro),\n",
    "    (\"example\",example),\n",
    "    (\"start\",start)\n",
    "]\n",
    "\n",
    "\n",
    "full_prompt = PipelinePromptTemplate(\n",
    "    final_prompt=final,\n",
    "    pipeline_prompts=prompts,\n",
    ")\n",
    "\n",
    "chain = full_prompt | chat\n",
    "\n",
    "chain.invoke({\n",
    "    \"character\":\"Pirate\",\n",
    "    \"example_question\":\"What is your location?\",\n",
    "    \"example_answer\":\"Arrrrgg!!! That is a skeleton in the closet!!\",\n",
    "    \"question\":\"What is your fav food?\",\n",
    "})\n",
    "\n",
    "\n"
   ]
  },
  {
   "cell_type": "code",
   "execution_count": null,
   "metadata": {},
   "outputs": [
    {
     "name": "stdout",
     "output_type": "stream",
     "text": [
      "\u001b[32;1m\u001b[1;3m[llm/start]\u001b[0m \u001b[1m[1:llm:ChatOpenAI] Entering LLM run with input:\n",
      "\u001b[0m{\n",
      "  \"prompts\": [\n",
      "    \"Human: How do you make a italian pasta\"\n",
      "  ]\n",
      "}\n",
      "\u001b[36;1m\u001b[1;3m[llm/end]\u001b[0m \u001b[1m[1:llm:ChatOpenAI] [3.00s] Exiting LLM run with output:\n",
      "\u001b[0m{\n",
      "  \"generations\": [\n",
      "    [\n",
      "      {\n",
      "        \"text\": \"To make Italian pasta, you will need the following ingredients:\\n\\n- 2 cups of all-purpose flour\\n- 2 large eggs\\n- Pinch of salt\\n- Water (if needed)\\n\\nHere is a step-by-step guide to making Italian pasta:\\n\\n1. On a clean work surface, pour the flour and make a well in the center.\\n2. Crack the eggs into the well and add a pinch of salt.\\n3. Using a fork, gradually mix the eggs into the flour until a dough forms.\\n4. Knead the dough for about 10 minutes until it becomes smooth and elastic. If the dough is too dry, add a little water. If it is too wet, add a little more flour.\\n5. Wrap the dough in plastic wrap and let it rest for at least 30 minutes.\\n6. After resting, roll out the dough using a pasta machine or a rolling pin until it is thin.\\n7. Cut the dough into your desired shape, such as fettuccine or spaghetti.\\n8. Cook the pasta in a large pot of boiling salted water for 2-3 minutes or until al dente.\\n9. Drain the pasta and toss with your favorite sauce or toppings.\\n\\nEnjoy your homemade Italian pasta!\",\n",
      "        \"generation_info\": {\n",
      "          \"finish_reason\": \"stop\"\n",
      "        },\n",
      "        \"type\": \"ChatGeneration\",\n",
      "        \"message\": {\n",
      "          \"lc\": 1,\n",
      "          \"type\": \"constructor\",\n",
      "          \"id\": [\n",
      "            \"langchain\",\n",
      "            \"schema\",\n",
      "            \"messages\",\n",
      "            \"AIMessage\"\n",
      "          ],\n",
      "          \"kwargs\": {\n",
      "            \"content\": \"To make Italian pasta, you will need the following ingredients:\\n\\n- 2 cups of all-purpose flour\\n- 2 large eggs\\n- Pinch of salt\\n- Water (if needed)\\n\\nHere is a step-by-step guide to making Italian pasta:\\n\\n1. On a clean work surface, pour the flour and make a well in the center.\\n2. Crack the eggs into the well and add a pinch of salt.\\n3. Using a fork, gradually mix the eggs into the flour until a dough forms.\\n4. Knead the dough for about 10 minutes until it becomes smooth and elastic. If the dough is too dry, add a little water. If it is too wet, add a little more flour.\\n5. Wrap the dough in plastic wrap and let it rest for at least 30 minutes.\\n6. After resting, roll out the dough using a pasta machine or a rolling pin until it is thin.\\n7. Cut the dough into your desired shape, such as fettuccine or spaghetti.\\n8. Cook the pasta in a large pot of boiling salted water for 2-3 minutes or until al dente.\\n9. Drain the pasta and toss with your favorite sauce or toppings.\\n\\nEnjoy your homemade Italian pasta!\",\n",
      "            \"additional_kwargs\": {}\n",
      "          }\n",
      "        }\n",
      "      }\n",
      "    ]\n",
      "  ],\n",
      "  \"llm_output\": {\n",
      "    \"token_usage\": {\n",
      "      \"prompt_tokens\": 14,\n",
      "      \"completion_tokens\": 253,\n",
      "      \"total_tokens\": 267,\n",
      "      \"prompt_tokens_details\": {\n",
      "        \"cached_tokens\": 0,\n",
      "        \"audio_tokens\": 0\n",
      "      },\n",
      "      \"completion_tokens_details\": {\n",
      "        \"reasoning_tokens\": 0,\n",
      "        \"audio_tokens\": 0,\n",
      "        \"accepted_prediction_tokens\": 0,\n",
      "        \"rejected_prediction_tokens\": 0\n",
      "      }\n",
      "    },\n",
      "    \"model_name\": \"gpt-3.5-turbo\",\n",
      "    \"system_fingerprint\": null\n",
      "  },\n",
      "  \"run\": null\n",
      "}\n"
     ]
    },
    {
     "data": {
      "text/plain": [
       "'To make Italian pasta, you will need the following ingredients:\\n\\n- 2 cups of all-purpose flour\\n- 2 large eggs\\n- Pinch of salt\\n- Water (if needed)\\n\\nHere is a step-by-step guide to making Italian pasta:\\n\\n1. On a clean work surface, pour the flour and make a well in the center.\\n2. Crack the eggs into the well and add a pinch of salt.\\n3. Using a fork, gradually mix the eggs into the flour until a dough forms.\\n4. Knead the dough for about 10 minutes until it becomes smooth and elastic. If the dough is too dry, add a little water. If it is too wet, add a little more flour.\\n5. Wrap the dough in plastic wrap and let it rest for at least 30 minutes.\\n6. After resting, roll out the dough using a pasta machine or a rolling pin until it is thin.\\n7. Cut the dough into your desired shape, such as fettuccine or spaghetti.\\n8. Cook the pasta in a large pot of boiling salted water for 2-3 minutes or until al dente.\\n9. Drain the pasta and toss with your favorite sauce or toppings.\\n\\nEnjoy your homemade Italian pasta!'"
      ]
     },
     "execution_count": 108,
     "metadata": {},
     "output_type": "execute_result"
    }
   ],
   "source": [
    "from langchain.chat_models import ChatOpenAI\n",
    "from langchain.callbacks import StreamingStdOutCallbackHandler\n",
    "from langchain.globals import set_llm_cache\n",
    "# , set_debug\n",
    "from langchain.cache import InMemoryCache, SQLiteCache \n",
    "\n",
    "\n",
    "set_llm_cache(InMemoryCache())\n",
    "\n",
    "# set_debug(True)\n",
    "\n",
    "chat = ChatOpenAI(\n",
    "                   temperature = 0.1,\n",
    "                #    streaming=True, \n",
    "                #    callbacks=[StreamingStdOutCallbackHandler()]\n",
    "    )\n",
    "\n",
    "chat.predict(\"How do you make a italian pasta\")\n",
    "\n",
    "\n"
   ]
  },
  {
   "cell_type": "code",
   "execution_count": 107,
   "metadata": {},
   "outputs": [
    {
     "data": {
      "text/plain": [
       "\"To make Italian pasta, you will need the following ingredients:\\n\\n- 2 cups of all-purpose flour\\n- 2 large eggs\\n- Pinch of salt\\n- Water (if needed)\\n\\nHere's how to make it:\\n\\n1. On a clean work surface, pour the flour and make a well in the center.\\n2. Crack the eggs into the well and add a pinch of salt.\\n3. Using a fork, gradually mix the eggs into the flour until a dough starts to form.\\n4. Use your hands to knead the dough until it is smooth and elastic. If the dough is too dry, add a little water. If it is too wet, add a little more flour.\\n5. Wrap the dough in plastic wrap and let it rest for at least 30 minutes.\\n6. After resting, roll out the dough using a pasta machine or a rolling pin until it is thin.\\n7. Cut the dough into your desired shape, such as fettuccine or spaghetti.\\n8. Cook the pasta in a large pot of boiling salted water for 2-3 minutes, or until al dente.\\n9. Drain the pasta and toss with your favorite sauce or toppings.\\n\\nEnjoy your homemade Italian pasta!\""
      ]
     },
     "execution_count": 107,
     "metadata": {},
     "output_type": "execute_result"
    }
   ],
   "source": [
    "chat.predict(\"How do you make a italian pasta\")"
   ]
  },
  {
   "cell_type": "code",
   "execution_count": 114,
   "metadata": {},
   "outputs": [
    {
     "name": "stdout",
     "output_type": "stream",
     "text": [
      "\u001b[32;1m\u001b[1;3m[llm/start]\u001b[0m \u001b[1m[1:llm:ChatOpenAI] Entering LLM run with input:\n",
      "\u001b[0m{\n",
      "  \"prompts\": [\n",
      "    \"Human: How do you make a italian best food\"\n",
      "  ]\n",
      "}\n",
      "\u001b[36;1m\u001b[1;3m[llm/end]\u001b[0m \u001b[1m[1:llm:ChatOpenAI] [2ms] Exiting LLM run with output:\n",
      "\u001b[0m{\n",
      "  \"generations\": [\n",
      "    [\n",
      "      {\n",
      "        \"text\": \"To make a delicious Italian dish, you will need to use fresh, high-quality ingredients and follow traditional Italian cooking techniques. Here are some tips for making the best Italian food:\\n\\n1. Use fresh, seasonal ingredients: Italian cuisine is all about using fresh, seasonal ingredients to create flavorful dishes. Look for ripe tomatoes, fragrant basil, and high-quality olive oil to enhance the flavors of your dish.\\n\\n2. Don't skimp on the herbs and spices: Italian cuisine is known for its use of herbs and spices to add depth and complexity to dishes. Use fresh herbs like basil, oregano, and parsley, as well as spices like garlic, red pepper flakes, and black pepper to enhance the flavors of your dish.\\n\\n3. Cook with love and patience: Italian food is all about slow cooking and allowing the flavors to develop over time. Take your time when cooking your dish, allowing the ingredients to simmer and meld together to create a rich and flavorful dish.\\n\\n4. Use the right cooking techniques: Italian cuisine relies on simple cooking techniques like sautéing, braising, and roasting to bring out the natural flavors of the ingredients. Use these techniques to create a dish that is both delicious and authentic.\\n\\n5. Serve with love and passion: Italian food is meant to be enjoyed with family and friends, so be sure to serve your dish with love and passion. Set a beautiful table, pour some wine, and enjoy your meal with good company.\\n\\nBy following these tips and using fresh, high-quality ingredients, you can create a delicious Italian dish that will transport you to the streets of Italy with every bite. Buon appetito!\",\n",
      "        \"generation_info\": {\n",
      "          \"finish_reason\": \"stop\"\n",
      "        },\n",
      "        \"type\": \"ChatGeneration\",\n",
      "        \"message\": {\n",
      "          \"lc\": 1,\n",
      "          \"type\": \"constructor\",\n",
      "          \"id\": [\n",
      "            \"langchain\",\n",
      "            \"schema\",\n",
      "            \"messages\",\n",
      "            \"AIMessage\"\n",
      "          ],\n",
      "          \"kwargs\": {\n",
      "            \"content\": \"To make a delicious Italian dish, you will need to use fresh, high-quality ingredients and follow traditional Italian cooking techniques. Here are some tips for making the best Italian food:\\n\\n1. Use fresh, seasonal ingredients: Italian cuisine is all about using fresh, seasonal ingredients to create flavorful dishes. Look for ripe tomatoes, fragrant basil, and high-quality olive oil to enhance the flavors of your dish.\\n\\n2. Don't skimp on the herbs and spices: Italian cuisine is known for its use of herbs and spices to add depth and complexity to dishes. Use fresh herbs like basil, oregano, and parsley, as well as spices like garlic, red pepper flakes, and black pepper to enhance the flavors of your dish.\\n\\n3. Cook with love and patience: Italian food is all about slow cooking and allowing the flavors to develop over time. Take your time when cooking your dish, allowing the ingredients to simmer and meld together to create a rich and flavorful dish.\\n\\n4. Use the right cooking techniques: Italian cuisine relies on simple cooking techniques like sautéing, braising, and roasting to bring out the natural flavors of the ingredients. Use these techniques to create a dish that is both delicious and authentic.\\n\\n5. Serve with love and passion: Italian food is meant to be enjoyed with family and friends, so be sure to serve your dish with love and passion. Set a beautiful table, pour some wine, and enjoy your meal with good company.\\n\\nBy following these tips and using fresh, high-quality ingredients, you can create a delicious Italian dish that will transport you to the streets of Italy with every bite. Buon appetito!\",\n",
      "            \"additional_kwargs\": {}\n",
      "          }\n",
      "        }\n",
      "      }\n",
      "    ]\n",
      "  ],\n",
      "  \"llm_output\": null,\n",
      "  \"run\": null\n",
      "}\n"
     ]
    },
    {
     "data": {
      "text/plain": [
       "\"To make a delicious Italian dish, you will need to use fresh, high-quality ingredients and follow traditional Italian cooking techniques. Here are some tips for making the best Italian food:\\n\\n1. Use fresh, seasonal ingredients: Italian cuisine is all about using fresh, seasonal ingredients to create flavorful dishes. Look for ripe tomatoes, fragrant basil, and high-quality olive oil to enhance the flavors of your dish.\\n\\n2. Don't skimp on the herbs and spices: Italian cuisine is known for its use of herbs and spices to add depth and complexity to dishes. Use fresh herbs like basil, oregano, and parsley, as well as spices like garlic, red pepper flakes, and black pepper to enhance the flavors of your dish.\\n\\n3. Cook with love and patience: Italian food is all about slow cooking and allowing the flavors to develop over time. Take your time when cooking your dish, allowing the ingredients to simmer and meld together to create a rich and flavorful dish.\\n\\n4. Use the right cooking techniques: Italian cuisine relies on simple cooking techniques like sautéing, braising, and roasting to bring out the natural flavors of the ingredients. Use these techniques to create a dish that is both delicious and authentic.\\n\\n5. Serve with love and passion: Italian food is meant to be enjoyed with family and friends, so be sure to serve your dish with love and passion. Set a beautiful table, pour some wine, and enjoy your meal with good company.\\n\\nBy following these tips and using fresh, high-quality ingredients, you can create a delicious Italian dish that will transport you to the streets of Italy with every bite. Buon appetito!\""
      ]
     },
     "execution_count": 114,
     "metadata": {},
     "output_type": "execute_result"
    }
   ],
   "source": [
    "from langchain.chat_models import ChatOpenAI\n",
    "from langchain.callbacks import StreamingStdOutCallbackHandler\n",
    "from langchain.globals import set_llm_cache\n",
    "from langchain.cache import InMemoryCache, SQLiteCache \n",
    "\n",
    "\n",
    "set_llm_cache(SQLiteCache(\"cache.db\"))\n",
    "\n",
    "\n",
    "chat = ChatOpenAI(\n",
    "                   temperature = 0.1,\n",
    "                #    streaming=True, \n",
    "                #    callbacks=[StreamingStdOutCallbackHandler()]\n",
    "    )\n",
    "\n",
    "chat.predict(\"How do you make a italian best food\")\n",
    "\n",
    "\n"
   ]
  },
  {
   "cell_type": "code",
   "execution_count": 116,
   "metadata": {},
   "outputs": [
    {
     "name": "stdout",
     "output_type": "stream",
     "text": [
      "\u001b[32;1m\u001b[1;3m[llm/start]\u001b[0m \u001b[1m[1:llm:ChatOpenAI] Entering LLM run with input:\n",
      "\u001b[0m{\n",
      "  \"prompts\": [\n",
      "    \"Human: What is the recipe for soju\"\n",
      "  ]\n",
      "}\n",
      "\u001b[36;1m\u001b[1;3m[llm/end]\u001b[0m \u001b[1m[1:llm:ChatOpenAI] [2.39s] Exiting LLM run with output:\n",
      "\u001b[0m{\n",
      "  \"generations\": [\n",
      "    [\n",
      "      {\n",
      "        \"text\": \"Ingredients:\\n- 1 cup of rice\\n- 1 cup of barley\\n- 1 cup of water\\n- 1 tablespoon of yeast\\n- 1 tablespoon of sugar\\n\\nInstructions:\\n1. Rinse the rice and barley thoroughly and soak them in water for at least 4 hours.\\n2. Drain the rice and barley and place them in a steamer basket. Steam for about 30 minutes or until the grains are cooked.\\n3. Transfer the cooked rice and barley to a large bowl and let it cool to room temperature.\\n4. In a separate bowl, dissolve the yeast and sugar in water and let it sit for about 10 minutes until it becomes frothy.\\n5. Add the yeast mixture to the cooled rice and barley and mix well.\\n6. Cover the bowl with a clean cloth and let it ferment in a warm, dark place for about 1 week.\\n7. After a week, strain the mixture through a cheesecloth or fine mesh strainer to remove any solids.\\n8. Transfer the liquid to a clean bottle and store it in the refrigerator.\\n9. Serve the homemade soju chilled and enjoy responsibly.\",\n",
      "        \"generation_info\": {\n",
      "          \"finish_reason\": \"stop\"\n",
      "        },\n",
      "        \"type\": \"ChatGeneration\",\n",
      "        \"message\": {\n",
      "          \"lc\": 1,\n",
      "          \"type\": \"constructor\",\n",
      "          \"id\": [\n",
      "            \"langchain\",\n",
      "            \"schema\",\n",
      "            \"messages\",\n",
      "            \"AIMessage\"\n",
      "          ],\n",
      "          \"kwargs\": {\n",
      "            \"content\": \"Ingredients:\\n- 1 cup of rice\\n- 1 cup of barley\\n- 1 cup of water\\n- 1 tablespoon of yeast\\n- 1 tablespoon of sugar\\n\\nInstructions:\\n1. Rinse the rice and barley thoroughly and soak them in water for at least 4 hours.\\n2. Drain the rice and barley and place them in a steamer basket. Steam for about 30 minutes or until the grains are cooked.\\n3. Transfer the cooked rice and barley to a large bowl and let it cool to room temperature.\\n4. In a separate bowl, dissolve the yeast and sugar in water and let it sit for about 10 minutes until it becomes frothy.\\n5. Add the yeast mixture to the cooled rice and barley and mix well.\\n6. Cover the bowl with a clean cloth and let it ferment in a warm, dark place for about 1 week.\\n7. After a week, strain the mixture through a cheesecloth or fine mesh strainer to remove any solids.\\n8. Transfer the liquid to a clean bottle and store it in the refrigerator.\\n9. Serve the homemade soju chilled and enjoy responsibly.\",\n",
      "            \"additional_kwargs\": {}\n",
      "          }\n",
      "        }\n",
      "      }\n",
      "    ]\n",
      "  ],\n",
      "  \"llm_output\": {\n",
      "    \"token_usage\": {\n",
      "      \"prompt_tokens\": 14,\n",
      "      \"completion_tokens\": 232,\n",
      "      \"total_tokens\": 246,\n",
      "      \"prompt_tokens_details\": {\n",
      "        \"cached_tokens\": 0,\n",
      "        \"audio_tokens\": 0\n",
      "      },\n",
      "      \"completion_tokens_details\": {\n",
      "        \"reasoning_tokens\": 0,\n",
      "        \"audio_tokens\": 0,\n",
      "        \"accepted_prediction_tokens\": 0,\n",
      "        \"rejected_prediction_tokens\": 0\n",
      "      }\n",
      "    },\n",
      "    \"model_name\": \"gpt-3.5-turbo\",\n",
      "    \"system_fingerprint\": null\n",
      "  },\n",
      "  \"run\": null\n",
      "}\n",
      "Tokens Used: 246\n",
      "\tPrompt Tokens: 14\n",
      "\tCompletion Tokens: 232\n",
      "Successful Requests: 1\n",
      "Total Cost (USD): $0.0004850000000000001\n"
     ]
    }
   ],
   "source": [
    "from langchain.chat_models import ChatOpenAI\n",
    "from langchain.callbacks import get_openai_callback\n",
    "\n",
    "chat = ChatOpenAI(\n",
    "    temperature=0.1,\n",
    ")\n",
    "\n",
    "\n",
    "with get_openai_callback() as usage :\n",
    "    chat.predict(\"What is the recipe for soju\")\n",
    "    print(usage)"
   ]
  },
  {
   "cell_type": "code",
   "execution_count": 117,
   "metadata": {},
   "outputs": [],
   "source": [
    "from langchain.chat_models import ChatOpenAI\n",
    "from langchain.llms.openai import OpenAI\n",
    "\n",
    "chat = OpenAI(\n",
    "    temperature=0.1,\n",
    "    max_tokens=450,\n",
    "    model=\"gpt-3.5-turbo-16k\"\n",
    ")\n",
    "\n",
    "chat.save(\"model.json\")"
   ]
  },
  {
   "cell_type": "code",
   "execution_count": 118,
   "metadata": {},
   "outputs": [
    {
     "name": "stderr",
     "output_type": "stream",
     "text": [
      "/Users/kang-wooyong/Desktop/work/FULLSTACK-GPT/env/lib/python3.11/site-packages/langchain/llms/openai.py:216: UserWarning: You are trying to use a chat model. This way of initializing it is no longer supported. Instead, please use: `from langchain.chat_models import ChatOpenAI`\n",
      "  warnings.warn(\n",
      "/Users/kang-wooyong/Desktop/work/FULLSTACK-GPT/env/lib/python3.11/site-packages/langchain/llms/openai.py:811: UserWarning: You are trying to use a chat model. This way of initializing it is no longer supported. Instead, please use: `from langchain.chat_models import ChatOpenAI`\n",
      "  warnings.warn(\n"
     ]
    },
    {
     "data": {
      "text/plain": [
       "OpenAIChat(client=<class 'openai.api_resources.chat_completion.ChatCompletion'>, model_name='gpt-3.5-turbo-16k', model_kwargs={'temperature': 0.1, 'max_tokens': 450, 'top_p': 1, 'frequency_penalty': 0, 'presence_penalty': 0, 'n': 1, 'request_timeout': None, 'logit_bias': {}})"
      ]
     },
     "execution_count": 118,
     "metadata": {},
     "output_type": "execute_result"
    }
   ],
   "source": [
    "from langchain.chat_models import ChatOpenAI\n",
    "from langchain.llms.openai import OpenAI\n",
    "from langchain.llms.loading import load_llm\n",
    "\n",
    "chat = load_llm(\"model.json\")\n",
    "\n",
    "chat"
   ]
  },
  {
   "cell_type": "code",
   "execution_count": null,
   "metadata": {},
   "outputs": [],
   "source": []
  }
 ],
 "metadata": {
  "kernelspec": {
   "display_name": "env",
   "language": "python",
   "name": "python3"
  },
  "language_info": {
   "codemirror_mode": {
    "name": "ipython",
    "version": 3
   },
   "file_extension": ".py",
   "mimetype": "text/x-python",
   "name": "python",
   "nbconvert_exporter": "python",
   "pygments_lexer": "ipython3",
   "version": "3.11.9"
  }
 },
 "nbformat": 4,
 "nbformat_minor": 2
}
