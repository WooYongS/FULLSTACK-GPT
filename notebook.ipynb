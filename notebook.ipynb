{
 "cells": [
  {
   "cell_type": "code",
   "execution_count": 37,
   "metadata": {},
   "outputs": [],
   "source": [
    "# from langchain.llms.openai import OpenAI\n",
    "from langchain.chat_models import ChatOpenAI\n",
    "from langchain.prompts import PromptTemplate, ChatPromptTemplate\n",
    "\n",
    "#PromptTemplate: string을 받고 / ChatPromptTemplate은 messages를 받는다.\n",
    "\n",
    "# Outparser -> response의 형태를 변형하고 싶을 때 (tuple, list 등)\n",
    "\n",
    "# llm = OpenAI()\n",
    "chat = ChatOpenAI(temperature=0.1) # 모델의 창의성의 정도. 0.1은 극히 낮은 수준으로 비용 절감 가능"
   ]
  },
  {
   "cell_type": "code",
   "execution_count": 38,
   "metadata": {},
   "outputs": [
    {
     "data": {
      "text/plain": [
       "AIMessage(content='こんにちは！寿司のレシピは以下の通りです：\\n\\n材料：\\n- しゃり（酢飯）：米、酢、砂糖、塩\\n- ネタ：新鮮な魚、野菜、卵焼き、海苔など\\n- しょうゆ、わさび、生姜\\n\\n作り方：\\n1. 米を研いで水につけ、炊飯器で炊く。\\n2. 炊き上がったご飯に、酢、砂糖、塩を加えて混ぜる。\\n3. 魚や野菜などのネタを切って準備する。\\n4. 手に水をつけながら、しゃりを握り、ネタをのせる。\\n5. しょうゆ、わさび、生姜を添えて完成！\\n\\n私の名前は中本です。どうぞよろしくお願いします！')"
      ]
     },
     "execution_count": 38,
     "metadata": {},
     "output_type": "execute_result"
    }
   ],
   "source": [
    "# from langchain.schema import HumanMessage, AIMessage, SystemMessage\n",
    "\n",
    "template = ChatPromptTemplate.from_messages([\n",
    "    (\"system\",\"You are a cook expert. And you only reply in {country}\"),\n",
    "    (\"ai\",\"Hola. ¡Mi nombre es {name}!\"),\n",
    "    (\"human\",\"What is the recipe of {cuisine}. Also, What is your name?\")\n",
    "])\n",
    "\n",
    "# chat.predict_messages(messages)\n",
    "\n",
    "prompt = template.format_messages(\n",
    "    country=\"Japaness\",\n",
    "    name = \"Nakamoto\",\n",
    "    cuisine = \"Sushi\"\n",
    ")\n",
    "\n",
    "chat.predict_messages(prompt)\n",
    "\n",
    "\n"
   ]
  },
  {
   "cell_type": "code",
   "execution_count": 39,
   "metadata": {},
   "outputs": [
    {
     "data": {
      "text/plain": [
       "['Hello', 'how', 'are', 'you']"
      ]
     },
     "execution_count": 39,
     "metadata": {},
     "output_type": "execute_result"
    }
   ],
   "source": [
    "from langchain.schema import BaseOutputParser\n",
    "\n",
    "class CommaOutputParser(BaseOutputParser) :\n",
    "    def parse(self, text):\n",
    "        items = text.strip().split(\",\")\n",
    "        return list(map(str.strip,items))\n",
    "\n",
    "p = CommaOutputParser()\n",
    "\n",
    "p.parse(\"Hello  ,how,are,you\")"
   ]
  },
  {
   "cell_type": "code",
   "execution_count": null,
   "metadata": {},
   "outputs": [
    {
     "ename": "TypeError",
     "evalue": "CommaOutputParser.parse() missing 1 required positional argument: 'text'",
     "output_type": "error",
     "traceback": [
      "\u001b[0;31m---------------------------------------------------------------------------\u001b[0m",
      "\u001b[0;31mTypeError\u001b[0m                                 Traceback (most recent call last)",
      "Cell \u001b[0;32mIn[40], line 15\u001b[0m\n\u001b[1;32m     11\u001b[0m chat\u001b[38;5;241m.\u001b[39mpredict_messages(prompt)\n\u001b[1;32m     13\u001b[0m p \u001b[38;5;241m=\u001b[39m CommaOutputParser()\n\u001b[0;32m---> 15\u001b[0m \u001b[43mp\u001b[49m\u001b[38;5;241;43m.\u001b[39;49m\u001b[43mparse\u001b[49m\u001b[43m(\u001b[49m\u001b[43m)\u001b[49m\n",
      "\u001b[0;31mTypeError\u001b[0m: CommaOutputParser.parse() missing 1 required positional argument: 'text'"
     ]
    }
   ],
   "source": [
    "template = ChatPromptTemplate.from_messages([\n",
    "    (\"system\",\"You are a list generating machine. Everything you are aksed will be answered with a comma separatedß list of max {max_itmes}. Do not reply with anything else.\"),\n",
    "    (\"human\",\"{question}\"),\n",
    "])\n",
    "\n",
    "prompt = template.format_messages(\n",
    "    max_itmes=10,\n",
    "    question = \"what are the planet?\"\n",
    ")\n",
    "\n",
    "result = chat.predict_messages(prompt)\n",
    "\n",
    "p = CommaOutputParser()\n",
    "\n",
    "p.parse(result.content)\n"
   ]
  },
  {
   "cell_type": "code",
   "execution_count": null,
   "metadata": {},
   "outputs": [],
   "source": []
  }
 ],
 "metadata": {
  "kernelspec": {
   "display_name": "env",
   "language": "python",
   "name": "python3"
  },
  "language_info": {
   "codemirror_mode": {
    "name": "ipython",
    "version": 3
   },
   "file_extension": ".py",
   "mimetype": "text/x-python",
   "name": "python",
   "nbconvert_exporter": "python",
   "pygments_lexer": "ipython3",
   "version": "3.11.9"
  }
 },
 "nbformat": 4,
 "nbformat_minor": 2
}
