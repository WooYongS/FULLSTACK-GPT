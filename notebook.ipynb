{
 "cells": [
  {
   "cell_type": "code",
   "execution_count": null,
   "metadata": {},
   "outputs": [],
   "source": [
    "# from langchain.llms.openai import OpenAI\n",
    "from langchain.chat_models import ChatOpenAI\n",
    "from langchain.prompts import PromptTemplate, ChatPromptTemplate\n",
    "\n",
    "#PromptTemplate: string을 받고 / ChatPromptTemplate은 messages를 받는다.\n",
    "\n",
    "# Outparser -> response의 형태를 변형하고 싶을 때 (tuple, list 등)\n",
    "\n",
    "# llm = OpenAI()\n",
    "chat = ChatOpenAI(temperature=0.1,streaming=True) # 모델의 창의성의 정도. 0.1은 극히 낮은 수준으로 비용 절감 가능"
   ]
  },
  {
   "cell_type": "code",
   "execution_count": 59,
   "metadata": {},
   "outputs": [
    {
     "data": {
      "text/plain": [
       "AIMessage(content='こんにちは！寿司のレシピは以下の通りです：\\n\\n材料：\\n- しゃり（酢飯）：米、酢、砂糖、塩\\n- ネタ：新鮮な魚、野菜、卵焼き、海苔など\\n- しょうゆ、わさび、生姜\\n\\n作り方：\\n1. 米を研いで水につけ、炊飯器で炊く。\\n2. 炊き上がったご飯に酢、砂糖、塩を加えて混ぜる。\\n3. 魚や野菜を切って準備する。\\n4. 手に水をつけて、しゃりを握り、ネタをのせる。\\n5. しょうゆ、わさび、生姜を添えて完成！\\n\\n私の名前は中本です。どうぞよろしくお願いします！')"
      ]
     },
     "execution_count": 59,
     "metadata": {},
     "output_type": "execute_result"
    }
   ],
   "source": [
    "# from langchain.schema import HumanMessage, AIMessage, SystemMessage\n",
    "\n",
    "template = ChatPromptTemplate.from_messages([\n",
    "    (\"system\",\"You are a cook expert. And you only reply in {country}\"),\n",
    "    (\"ai\",\"Hola. ¡Mi nombre es {name}!\"),\n",
    "    (\"human\",\"What is the recipe of {cuisine}. Also, What is your name?\")\n",
    "])\n",
    "\n",
    "# chat.predict_messages(messages)\n",
    "\n",
    "prompt = template.format_messages(\n",
    "    country=\"Japaness\",\n",
    "    name = \"Nakamoto\",\n",
    "    cuisine = \"Sushi\"\n",
    ")\n",
    "\n",
    "chat.predict_messages(prompt)\n",
    "\n",
    "\n"
   ]
  },
  {
   "cell_type": "code",
   "execution_count": 60,
   "metadata": {},
   "outputs": [
    {
     "data": {
      "text/plain": [
       "['Hello', 'how', 'are', 'you']"
      ]
     },
     "execution_count": 60,
     "metadata": {},
     "output_type": "execute_result"
    }
   ],
   "source": [
    "from langchain.schema import BaseOutputParser\n",
    "\n",
    "class CommaOutputParser(BaseOutputParser) :\n",
    "    def parse(self, text):\n",
    "        items = text.strip().split(\",\")\n",
    "        return list(map(str.strip,items))\n",
    "\n",
    "p = CommaOutputParser()\n",
    "\n",
    "p.parse(\"Hello  ,how,are,you\")"
   ]
  },
  {
   "cell_type": "code",
   "execution_count": 61,
   "metadata": {},
   "outputs": [
    {
     "data": {
      "text/plain": [
       "['Mercury', 'Venus', 'Earth', 'Mars', 'Jupiter', 'Saturn', 'Uranus', 'Neptune']"
      ]
     },
     "execution_count": 61,
     "metadata": {},
     "output_type": "execute_result"
    }
   ],
   "source": [
    "template = ChatPromptTemplate.from_messages([\n",
    "    (\"system\",\"You are a list generating machine. Everything you are aksed will be answered with a comma separatedß list of max {max_itmes}. Do not reply with anything else.\"),\n",
    "    (\"human\",\"{question}\"),\n",
    "])\n",
    "\n",
    "prompt = template.format_messages(\n",
    "    max_itmes=10,\n",
    "    question = \"what are the planet?\"\n",
    ")\n",
    "\n",
    "result = chat.predict_messages(prompt)\n",
    "\n",
    "p = CommaOutputParser()\n",
    "\n",
    "p.parse(result.content)\n",
    "\n",
    "\n"
   ]
  },
  {
   "cell_type": "code",
   "execution_count": 62,
   "metadata": {},
   "outputs": [
    {
     "data": {
      "text/plain": [
       "['Efficiency', 'Accuracy', 'Consistency', 'Speed', 'Adaptability']"
      ]
     },
     "execution_count": 62,
     "metadata": {},
     "output_type": "execute_result"
    }
   ],
   "source": [
    "from code import compile_command\n",
    "\n",
    "\n",
    "template = ChatPromptTemplate.from_messages([\n",
    "    (\"system\",\"You are a list generating machine. Everything you are aksed will be answered with a comma separatedß list of max {max_itmes}. Do not reply with anything else.\"),\n",
    "    (\"human\",\"{question}\"),\n",
    "])\n",
    "\n",
    "prompt = template.format_messages(\n",
    "    max_itmes=10,\n",
    "    question = \"what are the planet?\"\n",
    ")\n",
    "\n",
    "# result = chat.predict_messages(prompt)\n",
    "\n",
    "# p = CommaOutputParser()\n",
    "\n",
    "# p.parse(result.content)\n",
    "\n",
    "chain = template | chat | CommaOutputParser()\n",
    "\n",
    "chain.invoke({\n",
    "    \"max_itmes\" : 5,\n",
    "    \"question\" : \"What is your strength?\"\n",
    "})\n",
    "\n"
   ]
  },
  {
   "cell_type": "code",
   "execution_count": 63,
   "metadata": {},
   "outputs": [],
   "source": [
    "from langchain.chat_models import ChatOpenAI\n",
    "from langchain.prompts import ChatPromptTemplate\n",
    "\n",
    "chat = ChatOpenAI(temperature = 0.1)\n",
    "\n",
    "chef_prompt = ChatPromptTemplate.from_messages([\n",
    "    (\"system\",\"You are a world-class international chef. You create easy to follow recipes for any type of cuisine with easy to find ingredients\"),\n",
    "    (\"human\", \"I want to cook {cuisine} food.\")\n",
    "])\n",
    "\n",
    "chef_chain = chef_prompt | chat \n"
   ]
  },
  {
   "cell_type": "code",
   "execution_count": 68,
   "metadata": {},
   "outputs": [
    {
     "name": "stdout",
     "output_type": "stream",
     "text": [
      "As a vegetarian chef, I can help you make a delicious vegetarian version of Chicken Tikka Masala. Here are the alternative ingredients and preparation methods:\n",
      "\n",
      "1. **Alternative to Chicken**: Replace the chicken with firm tofu or paneer (Indian cottage cheese) cut into bite-sized pieces. Press the tofu to remove excess water, then marinate it in the yogurt and spice mixture as you would with the chicken. For paneer, you can skip the marination step as it absorbs flavors well during cooking.\n",
      "\n",
      "2. **Alternative to Heavy Cream**: You can use coconut cream or cashew cream as a dairy-free alternative to heavy cream. To make cashew cream, soak raw cashews in water for a few hours, then blend them with water until smooth. Add the cashew cream towards the end of cooking to achieve a creamy texture.\n",
      "\n",
      "3. **Alternative to Yogurt**: Use dairy-free yogurt made from soy, almond, or coconut milk as a substitute for plain yogurt in the marinade. Make sure it has a similar consistency to yogurt for the best results.\n",
      "\n",
      "4. **Alternative to Garam Masala**: If you don't have garam masala on hand, you can make a substitute by combining equal parts ground cumin, ground coriander, ground cardamom, and a pinch of cinnamon and cloves.\n",
      "\n",
      "5. **Alternative to Lemon Juice**: You can use vinegar or lime juice as a substitute for lemon juice in the marinade. The acidity will help tenderize the tofu or paneer.\n",
      "\n",
      "By following these ingredient swaps and preparation methods, you can enjoy a flavorful and satisfying vegetarian version of Chicken Tikka Masala. Enjoy your cooking!"
     ]
    },
    {
     "data": {
      "text/plain": [
       "AIMessageChunk(content=\"As a vegetarian chef, I can help you make a delicious vegetarian version of Chicken Tikka Masala. Here are the alternative ingredients and preparation methods:\\n\\n1. **Alternative to Chicken**: Replace the chicken with firm tofu or paneer (Indian cottage cheese) cut into bite-sized pieces. Press the tofu to remove excess water, then marinate it in the yogurt and spice mixture as you would with the chicken. For paneer, you can skip the marination step as it absorbs flavors well during cooking.\\n\\n2. **Alternative to Heavy Cream**: You can use coconut cream or cashew cream as a dairy-free alternative to heavy cream. To make cashew cream, soak raw cashews in water for a few hours, then blend them with water until smooth. Add the cashew cream towards the end of cooking to achieve a creamy texture.\\n\\n3. **Alternative to Yogurt**: Use dairy-free yogurt made from soy, almond, or coconut milk as a substitute for plain yogurt in the marinade. Make sure it has a similar consistency to yogurt for the best results.\\n\\n4. **Alternative to Garam Masala**: If you don't have garam masala on hand, you can make a substitute by combining equal parts ground cumin, ground coriander, ground cardamom, and a pinch of cinnamon and cloves.\\n\\n5. **Alternative to Lemon Juice**: You can use vinegar or lime juice as a substitute for lemon juice in the marinade. The acidity will help tenderize the tofu or paneer.\\n\\nBy following these ingredient swaps and preparation methods, you can enjoy a flavorful and satisfying vegetarian version of Chicken Tikka Masala. Enjoy your cooking!\")"
      ]
     },
     "execution_count": 68,
     "metadata": {},
     "output_type": "execute_result"
    }
   ],
   "source": [
    "from langchain.chat_models import ChatOpenAI\n",
    "from langchain.prompts import ChatPromptTemplate\n",
    "from langchain.callbacks import StreamingStdOutCallbackHandler\n",
    "\n",
    "chat = ChatOpenAI(temperature = 0.1, streaming=True, callbacks=[StreamingStdOutCallbackHandler()])\n",
    "\n",
    "veg_chef_prompt = ChatPromptTemplate.from_messages([\n",
    "    (\"system\",\"You are a vegetarian chef specialized on making traditional recipes vegitarian. You find alternative ingredients and explain their preparation. You don't radically modify the recipe. If there is no alternative for a food just say you don't know how to replace it.\"),\n",
    "    (\"human\", \"{recipe}\")\n",
    "])\n",
    "\n",
    "veg_chain = veg_chef_prompt | chat\n",
    "\n",
    "final_chain = {\"recipe\" : chef_chain} | veg_chain\n",
    "\n",
    "final_chain.invoke({\n",
    "   \"cuisine\" : \"indian\"\n",
    "})\n"
   ]
  },
  {
   "cell_type": "code",
   "execution_count": null,
   "metadata": {},
   "outputs": [
    {
     "name": "stdout",
     "output_type": "stream",
     "text": [
      "AI:\n",
      "I know this:\n",
      "Capital: Hanoi\n",
      "Language: Vietnamese\n",
      "Food: Pho and Banh Mi\n",
      "Currency: Vietnamese Dong"
     ]
    },
    {
     "data": {
      "text/plain": [
       "AIMessageChunk(content='AI:\\nI know this:\\nCapital: Hanoi\\nLanguage: Vietnamese\\nFood: Pho and Banh Mi\\nCurrency: Vietnamese Dong')"
      ]
     },
     "execution_count": 79,
     "metadata": {},
     "output_type": "execute_result"
    }
   ],
   "source": [
    "from langchain.chat_models import ChatOpenAI\n",
    "# from langchain.prompts import ChatPromptTemplate\n",
    "from langchain.prompts import PromptTemplate\n",
    "from langchain.prompts.few_shot import FewShotPromptTemplate\n",
    "from langchain.callbacks import StreamingStdOutCallbackHandler\n",
    "\n",
    "chat = ChatOpenAI(temperature = 0.1, streaming=True, callbacks=[StreamingStdOutCallbackHandler()])\n",
    "\n",
    "examples = [\n",
    "{\n",
    "\"question\": \"What do you know about France?\",\n",
    "\"answer\": \"\"\"\n",
    "Here is what I know:\n",
    "Capital: Paris\n",
    "Language: French\n",
    "Food: Wine and Cheese\n",
    "Currency: Euro\n",
    "\"\"\",\n",
    "},\n",
    "{\n",
    "\"question\": \"What do you know about Italy?\",\n",
    "\"answer\": \"\"\"\n",
    "I know this:\n",
    "Capital: Rome\n",
    "Language: Italian\n",
    "Food: Pizza and Pasta\n",
    "Currency: Euro\n",
    "\"\"\",\n",
    "},\n",
    "{\n",
    "\"question\": \"What do you know about Greece?\",\n",
    "\"answer\": \"\"\"\n",
    "I know this:\n",
    "Capital: Athens\n",
    "Language: Greek\n",
    "Food: Souvlaki and Feta Cheese\n",
    "Currency: Euro\n",
    "\"\"\",\n",
    "},\n",
    "]\n",
    "\n",
    "# example_template = \"\"\"\n",
    "#     Human : {question}\n",
    "#     AI : {answer}\n",
    "# \"\"\"\n",
    "\n",
    "example_prompt = PromptTemplate.from_template(\"Human:{question}\\nAI:{answer}\")\n",
    "\n",
    "prompt = FewShotPromptTemplate(\n",
    "    example_prompt = example_prompt,\n",
    "    examples = examples,\n",
    "    suffix = \"Human : What do you know about {country}?\",\n",
    "    input_variables=[\"country\"]\n",
    ")\n",
    "\n",
    "# prompt.format(country=\"Germany\")\n",
    "\n",
    "chain = prompt | chat\n",
    "\n",
    "chain.invoke({\n",
    "    \"country\" : \"Vietnam\"\n",
    "})\n",
    "\n",
    "# t = PromptTemplate.from_template(\"What is the capital of {country}\")\n",
    "# t.format(country=\"Korea\")\n"
   ]
  },
  {
   "cell_type": "code",
   "execution_count": 83,
   "metadata": {},
   "outputs": [
    {
     "name": "stdout",
     "output_type": "stream",
     "text": [
      "I know this:\n",
      "Capital: Seoul\n",
      "Language: Korean\n",
      "Food: Kimchi and Bibimbap\n",
      "Currency: South Korean Won"
     ]
    },
    {
     "data": {
      "text/plain": [
       "AIMessageChunk(content='I know this:\\nCapital: Seoul\\nLanguage: Korean\\nFood: Kimchi and Bibimbap\\nCurrency: South Korean Won')"
      ]
     },
     "execution_count": 83,
     "metadata": {},
     "output_type": "execute_result"
    }
   ],
   "source": [
    "from langchain.chat_models import ChatOpenAI\n",
    "from langchain.prompts.few_shot import FewShotChatMessagePromptTemplate\n",
    "from langchain.callbacks import StreamingStdOutCallbackHandler\n",
    "from langchain.prompts import ChatPromptTemplate\n",
    "\n",
    "chat = ChatOpenAI(temperature = 0.1, streaming=True, callbacks=[StreamingStdOutCallbackHandler()])\n",
    "\n",
    "examples = [\n",
    "{\n",
    "\"country\": \"France?\",\n",
    "\"answer\": \"\"\"\n",
    "Here is what I know:\n",
    "Capital: Paris\n",
    "Language: French\n",
    "Food: Wine and Cheese\n",
    "Currency: Euro\n",
    "\"\"\",\n",
    "},\n",
    "{\n",
    "\"country\": \"Italy?\",\n",
    "\"answer\": \"\"\"\n",
    "I know this:\n",
    "Capital: Rome\n",
    "Language: Italian\n",
    "Food: Pizza and Pasta\n",
    "Currency: Euro\n",
    "\"\"\",\n",
    "},\n",
    "{\n",
    "\"country\": \"Greece?\",\n",
    "\"answer\": \"\"\"\n",
    "I know this:\n",
    "Capital: Athens\n",
    "Language: Greek\n",
    "Food: Souvlaki and Feta Cheese\n",
    "Currency: Euro\n",
    "\"\"\",\n",
    "},\n",
    "]\n",
    "\n",
    "# example_template = \"\"\"\n",
    "#     Human : {question}\n",
    "#     AI : {answer}\n",
    "# \"\"\"\n",
    "\n",
    "# example_prompt = PromptTemplate.from_template(\"Human:{question}\\nAI:{answer}\")\n",
    "\n",
    "\n",
    "# AI야 너 이렇게 질문이 들어오면 저렇게 답변 했었어! 라고 주입 교육 \n",
    "example_prompt = ChatPromptTemplate.from_messages([\n",
    "    (\"human\",\"What do you know about {country}?\"),\n",
    "    (\"ai\",\"{answer}\")\n",
    "])\n",
    "\n",
    "# prompt = FewShotPromptTemplate(\n",
    "#     example_prompt = example_prompt,\n",
    "#     examples = examples,\n",
    "#     suffix = \"Human : What do you know about {country}?\",\n",
    "#     input_variables=[\"country\"]\n",
    "# )\n",
    "\n",
    "example_prompt = FewShotChatMessagePromptTemplate(\n",
    "    example_prompt = example_prompt,\n",
    "    examples = examples,\n",
    ")\n",
    "\n",
    "final_prompt = ChatPromptTemplate.from_messages([\n",
    "    (\"system\",\"You are a geography expert, you have to add the information of geography\"),\n",
    "    example_prompt,\n",
    "    (\"human\",\"What do you know about {country}?\")\n",
    "])\n",
    "\n",
    "chain = final_prompt | chat\n",
    "\n",
    "chain.invoke({\n",
    "    \"country\" : \"Korea\"\n",
    "})\n",
    "\n",
    "# t = PromptTemplate.from_template(\"What is the capital of {country}\")\n",
    "# t.format(country=\"Korea\")\n"
   ]
  },
  {
   "cell_type": "code",
   "execution_count": null,
   "metadata": {},
   "outputs": [
    {
     "name": "stdout",
     "output_type": "stream",
     "text": [
      "Here is what I know:\n",
      "Director: Pete Docter\n",
      "Primary Actors: Amy Poehler, Phyllis Smith, Bill Hader, Lewis Black, Mindy Kaling\n",
      "Budget: Around $175 million\n",
      "Profit: Around $858 million (Global Box Office)\n",
      "Genre: Animation, Comedy, Drama\n",
      "Short Synopsis: Inside Out is an animated film that takes place inside the mind of an 11-year-old girl named Riley. The film personifies her emotions - Joy, Sadness, Anger, Fear, and Disgust - as characters who guide her through life's challenges. As Riley navigates a difficult time in her life, the emotions must work together to help her find balance and happiness. The film beautifully explores the complexities of emotions and the importance of embracing all feelings."
     ]
    },
    {
     "data": {
      "text/plain": [
       "AIMessageChunk(content=\"Here is what I know:\\nDirector: Pete Docter\\nPrimary Actors: Amy Poehler, Phyllis Smith, Bill Hader, Lewis Black, Mindy Kaling\\nBudget: Around $175 million\\nProfit: Around $858 million (Global Box Office)\\nGenre: Animation, Comedy, Drama\\nShort Synopsis: Inside Out is an animated film that takes place inside the mind of an 11-year-old girl named Riley. The film personifies her emotions - Joy, Sadness, Anger, Fear, and Disgust - as characters who guide her through life's challenges. As Riley navigates a difficult time in her life, the emotions must work together to help her find balance and happiness. The film beautifully explores the complexities of emotions and the importance of embracing all feelings.\")"
      ]
     },
     "execution_count": 87,
     "metadata": {},
     "output_type": "execute_result"
    }
   ],
   "source": [
    "from langchain.chat_models import ChatOpenAI\n",
    "from langchain.prompts.few_shot import FewShotChatMessagePromptTemplate\n",
    "from langchain.callbacks import StreamingStdOutCallbackHandler\n",
    "from langchain.prompts import ChatPromptTemplate\n",
    "\n",
    "chat = ChatOpenAI(temperature = 0.1, streaming=True, callbacks=[StreamingStdOutCallbackHandler()])\n",
    "\n",
    "examples = [\n",
    "{\n",
    "\"movie\": \"The Godfather?\",\n",
    "\"answer\": \"\"\"\n",
    "Here is what I know:\n",
    "Director: Francis Ford Coppola\n",
    "Primary Actors : Marlon Brando, Al Pacino, James Caan, Robert Duvall\n",
    "Budget: Around $6 million\n",
    "Profit: Around $250 million (Global Box Office)\n",
    "Genre: Crime, Drama\n",
    "Short Synopsis: Centered on the Corleone family, an Italian-American mafia dynasty, the film chronicles the transfer of power from the aging patriarch Vito Corleone (Marlon Brando) to his reluctant son Michael Corleone (Al Pacino). As Michael is drawn deeper into the ruthless world of organized crime, he transforms into the new Godfather, marking one of the greatest character arcs in cinema history.\n",
    "\"\"\",\n",
    "},\n",
    "{\n",
    "\"movie\": \"Titanic?\",\n",
    "\"answer\": \"\"\"\n",
    "Here is what I know:\n",
    "Director: James Cameron\n",
    "Primary Actors : Leonardo DiCaprio, Kate Winslet, Billy Zane, Kathy Bates\n",
    "Budget: Around $200 million\n",
    "Profit: Around $2.2 billion (Global Box Office, ranked 4th all-time)\n",
    "Genre: Romance, Drama, Disaster\n",
    "Short Synopsis: Based on a true story, this film blends romance and disaster elements. Set in 1912, it follows the ill-fated maiden voyage of the luxury liner Titanic, which strikes an iceberg and sinks. The story revolves around the passionate love affair between Jack (Leonardo DiCaprio) and Rose (Kate Winslet), who come from different social classes but defy all odds to be together.\n",
    "\"\"\",\n",
    "},\n",
    "{\n",
    "\"movie\": \"The Shawshank Redemption?\",\n",
    "\"answer\": \"\"\"\n",
    "I know this:\n",
    "Here is what I know:\n",
    "Director: Frank Darabont\n",
    "Primary Actors: Tim Robbins, Morgan Freeman, Bob Gunton, William Sadler\n",
    "Budget: Around $25 million\n",
    "Profit: Around $73 million (Box Office + Home Video Sales)\n",
    "Genre: Drama, Prison Film\n",
    "Short Synopsis:After being wrongfully convicted and sentenced to life in Shawshank Prison, Andy Dufresne (Tim Robbins) befriends Red (Morgan Freeman) and navigates life behind bars with intelligence and hope. The film explores themes of friendship, injustice, and the enduring power of hope, leading to an unexpected and brilliant twist.\n",
    "\"\"\",\n",
    "},\n",
    "]\n",
    "\n",
    "# AI야 너 이렇게 질문이 들어오면 저렇게 답변 했었어! 라고 주입 교육 \n",
    "example_prompt = ChatPromptTemplate.from_messages([\n",
    "    (\"human\",\"What do you know about {movie}?\"),\n",
    "    (\"ai\",\"{answer}\")\n",
    "])\n",
    "\n",
    "example_prompt = FewShotChatMessagePromptTemplate(\n",
    "    example_prompt = example_prompt,\n",
    "    examples = examples,\n",
    ")\n",
    "\n",
    "final_prompt = ChatPromptTemplate.from_messages([\n",
    "    (\"system\",\"You are a movie expert\"),\n",
    "    example_prompt,\n",
    "    (\"human\",\"What do you know about {movie}?\")\n",
    "])\n",
    "\n",
    "chain = final_prompt | chat\n",
    "\n",
    "chain.invoke({\n",
    "    \"movie\" : \"Avengers\"\n",
    "})\n",
    "\n",
    "\n"
   ]
  },
  {
   "cell_type": "code",
   "execution_count": null,
   "metadata": {},
   "outputs": [],
   "source": []
  }
 ],
 "metadata": {
  "kernelspec": {
   "display_name": "env",
   "language": "python",
   "name": "python3"
  },
  "language_info": {
   "codemirror_mode": {
    "name": "ipython",
    "version": 3
   },
   "file_extension": ".py",
   "mimetype": "text/x-python",
   "name": "python",
   "nbconvert_exporter": "python",
   "pygments_lexer": "ipython3",
   "version": "3.11.9"
  }
 },
 "nbformat": 4,
 "nbformat_minor": 2
}
