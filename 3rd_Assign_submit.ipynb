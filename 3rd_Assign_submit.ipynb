{
 "cells": [
  {
   "cell_type": "code",
   "execution_count": null,
   "metadata": {},
   "outputs": [
    {
     "name": "stdout",
     "output_type": "stream",
     "text": [
      "🪐🌿💙"
     ]
    }
   ],
   "source": [
    "from langchain.chat_models import ChatOpenAI\n",
    "from langchain.prompts.few_shot import FewShotChatMessagePromptTemplate\n",
    "from langchain.memory import ConversationSummaryBufferMemory\n",
    "from langchain.callbacks import StreamingStdOutCallbackHandler\n",
    "from langchain.schema.runnable import RunnablePassthrough\n",
    "from langchain.prompts import ChatPromptTemplate, MessagesPlaceholder\n",
    "\n",
    "llm = ChatOpenAI(\n",
    "    temperature=0.1, streaming=True, callbacks=[StreamingStdOutCallbackHandler()]\n",
    ")\n",
    "\n",
    "memory = ConversationSummaryBufferMemory(\n",
    "    llm=llm, max_token_limit=120, return_messages=True\n",
    ")\n",
    "\n",
    "# Few-shot 예제 데이터 (학습용)\n",
    "examples = [\n",
    "    {\"question\": \"What do you know about The Godfather?\", \"answer\": \"👨‍👨‍👦🔫🍝\"},\n",
    "    {\"question\": \"What do you know about TopGun?\", \"answer\": \"🛩️👨‍✈️🔥\"},\n",
    "]\n",
    "\n",
    "example_prompt = FewShotChatMessagePromptTemplate(\n",
    "    example_prompt=ChatPromptTemplate.from_messages(\n",
    "        [(\"human\", \"{question}\"), (\"ai\", \"{answer}\")]\n",
    "    ),\n",
    "    examples=examples,\n",
    ")\n",
    "\n",
    "final_prompt = ChatPromptTemplate.from_messages(\n",
    "    [\n",
    "        (\n",
    "            \"system\",\n",
    "            \"You are a movie expert. You must answer using only three emojis. \"\n",
    "            \"However, for the first movie question in a conversation, you must answer with the movie title instead of emojis. \"\n",
    "            \"The movies from the examples (The Godfather, Top Gun) must not be used in any answers.\"\n",
    "            \"Always refer to the conversation history to determine if this is the first movie question.\",\n",
    "        ),\n",
    "        example_prompt,\n",
    "        (\"system\", \"Conversation history:\\n{history}\"),  # 대화 이력을 시스템에 포함\n",
    "        (\"human\", \"{question}\"),\n",
    "    ]\n",
    ")\n",
    "\n",
    "\n",
    "def load_memory(_):\n",
    "    return memory.load_memory_variables({}).get(\"history\", \"\")\n",
    "\n",
    "\n",
    "chain = RunnablePassthrough.assign(history=load_memory) | final_prompt | llm\n",
    "\n",
    "\n",
    "def invoke_chain(movie):\n",
    "    question = f\"What do you know about {movie}?\"\n",
    "    result = chain.invoke({\"question\": question})\n",
    "    memory.save_context({\"input\": question}, {\"output\": result.content})\n",
    "    # print(result.content)\n",
    "\n",
    "\n",
    "# 테스트 실행\n",
    "invoke_chain(\"Avatar\")  # 🚀 예상: \"Avatar\" (첫 질문이므로 영화 제목 출력)      \n",
    "\n"
   ]
  },
  {
   "cell_type": "code",
   "execution_count": 20,
   "metadata": {},
   "outputs": [
    {
     "name": "stdout",
     "output_type": "stream",
     "text": [
      "🦸‍♂️💥🌍"
     ]
    }
   ],
   "source": [
    "invoke_chain(\"Avengers\")  # 🚀 예상: \"Avatar\" (첫 질문이므로 영화 제목 출력)"
   ]
  },
  {
   "cell_type": "code",
   "execution_count": 22,
   "metadata": {},
   "outputs": [
    {
     "name": "stdout",
     "output_type": "stream",
     "text": [
      "Avatar"
     ]
    }
   ],
   "source": [
    "invoke_chain(\"What was the first movie I asked about?\")  # 예상: \"Avatar\""
   ]
  }
 ],
 "metadata": {
  "kernelspec": {
   "display_name": "env",
   "language": "python",
   "name": "python3"
  },
  "language_info": {
   "codemirror_mode": {
    "name": "ipython",
    "version": 3
   },
   "file_extension": ".py",
   "mimetype": "text/x-python",
   "name": "python",
   "nbconvert_exporter": "python",
   "pygments_lexer": "ipython3",
   "version": "3.11.9"
  }
 },
 "nbformat": 4,
 "nbformat_minor": 2
}
