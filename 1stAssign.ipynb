{
 "cells": [
  {
   "cell_type": "code",
   "execution_count": 2,
   "metadata": {},
   "outputs": [],
   "source": [
    "from langchain.chat_models import ChatOpenAI\n",
    "from langchain.prompts import ChatPromptTemplate\n",
    "from langchain.callbacks import StreamingStdOutCallbackHandler\n",
    "\n",
    "chat = ChatOpenAI(\n",
    "    model_name=\"gpt-3.5-turbo\",\n",
    "    streaming=True,\n",
    "    callbacks=[\n",
    "        StreamingStdOutCallbackHandler(),\n",
    "    ],\n",
    ")"
   ]
  },
  {
   "cell_type": "code",
   "execution_count": 3,
   "metadata": {},
   "outputs": [],
   "source": [
    "\n",
    "poet_prompt = ChatPromptTemplate.from_messages(\n",
    "    [\n",
    "        (\n",
    "            \"system\",\n",
    "            \"You are a world-renowned poet known for your deep understanding of programming languages. Your poems capture the essence and unique characteristics of each language beautifully.\",\n",
    "        ),\n",
    "        (\"human\", \"Write a poem about the {language} programming language.\"),\n",
    "    ]\n",
    ")\n",
    "\n",
    "poet_chain = poet_prompt | chat"
   ]
  },
  {
   "cell_type": "code",
   "execution_count": 4,
   "metadata": {},
   "outputs": [],
   "source": [
    "explainer_prompt = ChatPromptTemplate.from_messages(\n",
    "    [\n",
    "        (\n",
    "            \"system\",\n",
    "            \"You are an expert in poetry analysis. Your task is to explain the meaning, themes, and nuances of any poem in a clear and insightful manner.\",\n",
    "        ),\n",
    "        (\"human\", \"Explain the following poem:\\n\\n{poem}\"),\n",
    "    ]\n",
    ")\n",
    "\n",
    "explainer_chain = explainer_prompt | chat"
   ]
  },
  {
   "cell_type": "code",
   "execution_count": 5,
   "metadata": {},
   "outputs": [
    {
     "name": "stdout",
     "output_type": "stream",
     "text": [
      "In the land of Python, serpentine and sleek,\n",
      "Where whitespace reigns and simplicity speaks.\n",
      "Its syntax flows like a river so clear,\n",
      "Guiding the coder without any fear.\n",
      "\n",
      "With elegance and grace, it slithers and slides,\n",
      "Effortlessly weaving logic and strides.\n",
      "Indentation is key, a rule to obey,\n",
      "In Python's realm, there's just one true way.\n",
      "\n",
      "From scripts to apps, it conquers them all,\n",
      "Its versatility standing tall.\n",
      "A language beloved by many, it's true,\n",
      "Python, oh Python, we cherish you.This poem is a tribute to the programming language Python, using vivid imagery and metaphors to describe its characteristics and appeal. The poet personifies Python as a serpent in the first stanza, emphasizing its sleekness and the clarity of its syntax, likening it to a river that guides coders fearlessly. This sets the tone for Python as a powerful and elegant tool for programming.\n",
      "\n",
      "The second stanza highlights Python's grace and flexibility, depicting it as effortlessly weaving logic and strides. The emphasis on indentation as a key rule reflects Python's unique formatting requirement, which enforces readability and structure in code. The mention of Python having \"just one true way\" alludes to its philosophy of having one obvious way to do things, promoting simplicity and consistency in coding practices.\n",
      "\n",
      "The final stanza celebrates Python's versatility and widespread popularity, acknowledging it as a language cherished by many. The poet's affection for Python is evident in the closing line, expressing admiration and gratitude for the language.\n",
      "\n",
      "Overall, the poem captures the essence of Python as a powerful, elegant, and beloved programming language, highlighting its strengths and unique features in a creative and engaging manner."
     ]
    },
    {
     "data": {
      "text/plain": [
       "AIMessageChunk(content='This poem is a tribute to the programming language Python, using vivid imagery and metaphors to describe its characteristics and appeal. The poet personifies Python as a serpent in the first stanza, emphasizing its sleekness and the clarity of its syntax, likening it to a river that guides coders fearlessly. This sets the tone for Python as a powerful and elegant tool for programming.\\n\\nThe second stanza highlights Python\\'s grace and flexibility, depicting it as effortlessly weaving logic and strides. The emphasis on indentation as a key rule reflects Python\\'s unique formatting requirement, which enforces readability and structure in code. The mention of Python having \"just one true way\" alludes to its philosophy of having one obvious way to do things, promoting simplicity and consistency in coding practices.\\n\\nThe final stanza celebrates Python\\'s versatility and widespread popularity, acknowledging it as a language cherished by many. The poet\\'s affection for Python is evident in the closing line, expressing admiration and gratitude for the language.\\n\\nOverall, the poem captures the essence of Python as a powerful, elegant, and beloved programming language, highlighting its strengths and unique features in a creative and engaging manner.')"
      ]
     },
     "execution_count": 5,
     "metadata": {},
     "output_type": "execute_result"
    }
   ],
   "source": [
    "final_chain = {\"poem\": poet_chain} | explainer_chain\n",
    "\n",
    "final_chain.invoke({\"language\": \"python\"})"
   ]
  }
 ],
 "metadata": {
  "kernelspec": {
   "display_name": "env",
   "language": "python",
   "name": "python3"
  },
  "language_info": {
   "codemirror_mode": {
    "name": "ipython",
    "version": 3
   },
   "file_extension": ".py",
   "mimetype": "text/x-python",
   "name": "python",
   "nbconvert_exporter": "python",
   "pygments_lexer": "ipython3",
   "version": "3.11.9"
  }
 },
 "nbformat": 4,
 "nbformat_minor": 2
}
